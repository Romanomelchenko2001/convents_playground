{
 "cells": [
  {
   "cell_type": "code",
   "execution_count": 477,
   "id": "5e850efd-5069-4b65-9dcc-bd57bb997f74",
   "metadata": {},
   "outputs": [],
   "source": [
    "## TODO Reqrite as pytorch lightning"
   ]
  },
  {
   "cell_type": "code",
   "execution_count": 1,
   "id": "567d7b3e-6444-449b-9f3b-9c6a1d558a6a",
   "metadata": {},
   "outputs": [],
   "source": [
    " import numpy as np"
   ]
  },
  {
   "cell_type": "code",
   "execution_count": 2,
   "id": "62c7625c-17d1-4cdb-b3ec-88e80306a463",
   "metadata": {},
   "outputs": [],
   "source": [
    "import pynvml\n",
    "import torch\n",
    "import os\n",
    "from PIL import Image\n",
    "import cv2\n",
    "from matplotlib import pyplot as plt\n",
    "import pandas as pd\n",
    "from sklearn.model_selection import RepeatedStratifiedKFold\n",
    "from sklearn.model_selection import train_test_split\n",
    "from torch.utils.data import Dataset\n",
    "from torchvision import datasets\n",
    "from torchvision.transforms import ToTensor\n",
    "import torchvision\n",
    "\n",
    "from torch.utils.data import DataLoader"
   ]
  },
  {
   "cell_type": "code",
   "execution_count": 3,
   "id": "3e6c7711-be8f-4c8e-9dc4-7ffafaf562a3",
   "metadata": {},
   "outputs": [
    {
     "data": {
      "text/plain": [
       "True"
      ]
     },
     "execution_count": 3,
     "metadata": {},
     "output_type": "execute_result"
    }
   ],
   "source": [
    "torch.cuda.is_available()"
   ]
  },
  {
   "cell_type": "code",
   "execution_count": 4,
   "id": "9b1a860a-72e6-4705-a014-23b100483b67",
   "metadata": {},
   "outputs": [],
   "source": [
    "device = torch.device('cuda') if torch.cuda.is_available() else torch.device('mps' \n",
    "                                  if torch.mps.is_available() else 'ROCM'\n",
    "                                 )"
   ]
  },
  {
   "cell_type": "code",
   "execution_count": 5,
   "id": "90ab15e0-7a17-4a6c-a6e8-7309395520bd",
   "metadata": {},
   "outputs": [
    {
     "data": {
      "text/plain": [
       "device(type='cuda')"
      ]
     },
     "execution_count": 5,
     "metadata": {},
     "output_type": "execute_result"
    }
   ],
   "source": [
    "device"
   ]
  },
  {
   "cell_type": "code",
   "execution_count": 4,
   "id": "0ffcd678-94ae-4fe1-974a-ea2037b20b23",
   "metadata": {},
   "outputs": [
    {
     "ename": "AttributeError",
     "evalue": "module 'torch' has no attribute 'accelerator'",
     "output_type": "error",
     "traceback": [
      "\u001b[1;31m---------------------------------------------------------------------------\u001b[0m",
      "\u001b[1;31mAttributeError\u001b[0m                            Traceback (most recent call last)",
      "Cell \u001b[1;32mIn[4], line 1\u001b[0m\n\u001b[1;32m----> 1\u001b[0m \u001b[38;5;28;01mif\u001b[39;00m \u001b[43mtorch\u001b[49m\u001b[38;5;241;43m.\u001b[39;49m\u001b[43maccelerator\u001b[49m\u001b[38;5;241m.\u001b[39mis_available():\n\u001b[0;32m      2\u001b[0m     device \u001b[38;5;241m=\u001b[39m torch\u001b[38;5;241m.\u001b[39mdevice(\u001b[38;5;124m'\u001b[39m\u001b[38;5;124mcuda\u001b[39m\u001b[38;5;124m'\u001b[39m) \u001b[38;5;28;01mif\u001b[39;00m torch\u001b[38;5;241m.\u001b[39mcuda\u001b[38;5;241m.\u001b[39mis_available() \u001b[38;5;28;01melse\u001b[39;00m torch\u001b[38;5;241m.\u001b[39mdevice(\u001b[38;5;124m'\u001b[39m\u001b[38;5;124mmps\u001b[39m\u001b[38;5;124m'\u001b[39m \n\u001b[0;32m      3\u001b[0m                                   \u001b[38;5;28;01mif\u001b[39;00m torch\u001b[38;5;241m.\u001b[39mmps\u001b[38;5;241m.\u001b[39mis_available() \u001b[38;5;28;01melse\u001b[39;00m \u001b[38;5;124m'\u001b[39m\u001b[38;5;124mROCM\u001b[39m\u001b[38;5;124m'\u001b[39m\n\u001b[0;32m      4\u001b[0m                                  )\n\u001b[0;32m      5\u001b[0m \u001b[38;5;28;01melse\u001b[39;00m: device \u001b[38;5;241m=\u001b[39m torch\u001b[38;5;241m.\u001b[39mdevice(\u001b[38;5;124m'\u001b[39m\u001b[38;5;124mcpu\u001b[39m\u001b[38;5;124m'\u001b[39m)\n",
      "File \u001b[1;32mD:\\RomanCodeTools\\Lib\\site-packages\\torch\\__init__.py:1932\u001b[0m, in \u001b[0;36m__getattr__\u001b[1;34m(name)\u001b[0m\n\u001b[0;32m   1929\u001b[0m     \u001b[38;5;28;01mimport\u001b[39;00m\u001b[38;5;250m \u001b[39m\u001b[38;5;21;01mimportlib\u001b[39;00m\n\u001b[0;32m   1930\u001b[0m     \u001b[38;5;28;01mreturn\u001b[39;00m importlib\u001b[38;5;241m.\u001b[39mimport_module(\u001b[38;5;124mf\u001b[39m\u001b[38;5;124m\"\u001b[39m\u001b[38;5;124m.\u001b[39m\u001b[38;5;132;01m{\u001b[39;00mname\u001b[38;5;132;01m}\u001b[39;00m\u001b[38;5;124m\"\u001b[39m, \u001b[38;5;18m__name__\u001b[39m)\n\u001b[1;32m-> 1932\u001b[0m \u001b[38;5;28;01mraise\u001b[39;00m \u001b[38;5;167;01mAttributeError\u001b[39;00m(\u001b[38;5;124mf\u001b[39m\u001b[38;5;124m\"\u001b[39m\u001b[38;5;124mmodule \u001b[39m\u001b[38;5;124m'\u001b[39m\u001b[38;5;132;01m{\u001b[39;00m\u001b[38;5;18m__name__\u001b[39m\u001b[38;5;132;01m}\u001b[39;00m\u001b[38;5;124m'\u001b[39m\u001b[38;5;124m has no attribute \u001b[39m\u001b[38;5;124m'\u001b[39m\u001b[38;5;132;01m{\u001b[39;00mname\u001b[38;5;132;01m}\u001b[39;00m\u001b[38;5;124m'\u001b[39m\u001b[38;5;124m\"\u001b[39m)\n",
      "\u001b[1;31mAttributeError\u001b[0m: module 'torch' has no attribute 'accelerator'"
     ]
    }
   ],
   "source": [
    "if torch.accelerator.is_available():\n",
    "    device = torch.device('cuda') if torch.cuda.is_available() else torch.device('mps' \n",
    "                                  if torch.mps.is_available() else 'ROCM'\n",
    "                                 )\n",
    "else: device = torch.device('cpu')"
   ]
  },
  {
   "cell_type": "code",
   "execution_count": 6,
   "id": "0b09f2e0-eb62-42cc-a161-e949cc738760",
   "metadata": {},
   "outputs": [],
   "source": [
    "from torch import nn\n",
    "from torch.nn import Module"
   ]
  },
  {
   "cell_type": "code",
   "execution_count": 7,
   "id": "73e6e61f-9bf6-47f1-ac8b-bd26192521ed",
   "metadata": {},
   "outputs": [],
   "source": [
    "import zipfile"
   ]
  },
  {
   "cell_type": "code",
   "execution_count": 323,
   "id": "fe89c1ef-f630-461a-969d-b118c40769ba",
   "metadata": {},
   "outputs": [
    {
     "ename": "FileExistsError",
     "evalue": "[WinError 183] Невозможно создать файл, так как он уже существует: './dataset_monkeys'",
     "output_type": "error",
     "traceback": [
      "\u001b[1;31m---------------------------------------------------------------------------\u001b[0m",
      "\u001b[1;31mFileExistsError\u001b[0m                           Traceback (most recent call last)",
      "Cell \u001b[1;32mIn[323], line 1\u001b[0m\n\u001b[1;32m----> 1\u001b[0m \u001b[43mos\u001b[49m\u001b[38;5;241;43m.\u001b[39;49m\u001b[43mmkdir\u001b[49m\u001b[43m(\u001b[49m\u001b[38;5;124;43m'\u001b[39;49m\u001b[38;5;124;43m./dataset_monkeys\u001b[39;49m\u001b[38;5;124;43m'\u001b[39;49m\u001b[43m)\u001b[49m\n",
      "\u001b[1;31mFileExistsError\u001b[0m: [WinError 183] Невозможно создать файл, так как он уже существует: './dataset_monkeys'"
     ]
    }
   ],
   "source": [
    "os.mkdir('./dataset_monkeys')"
   ]
  },
  {
   "cell_type": "code",
   "execution_count": 10,
   "id": "0dad325e-d493-49e2-baf8-d7bde3f8f579",
   "metadata": {},
   "outputs": [],
   "source": [
    "with zipfile.ZipFile('Monkeys.zip', 'r', zipfile.ZIP_DEFLATED) as zipf:\n",
    "    zipf.extractall(path = './dataset_monkeys')"
   ]
  },
  {
   "cell_type": "code",
   "execution_count": 8,
   "id": "224f5935-8e30-4cf6-99bd-85e91bfb0ebc",
   "metadata": {},
   "outputs": [],
   "source": [
    "path = './dataset_monkeys'"
   ]
  },
  {
   "cell_type": "code",
   "execution_count": 9,
   "id": "7a4cfbbd-e7f3-47fd-adab-2f43d16f9e9f",
   "metadata": {},
   "outputs": [],
   "source": [
    "classpaths = []"
   ]
  },
  {
   "cell_type": "code",
   "execution_count": 10,
   "id": "498658a7-3df0-49c7-a764-4edd8b483a82",
   "metadata": {},
   "outputs": [],
   "source": [
    "df = pd.DataFrame([], columns=['filename', 'class'])"
   ]
  },
  {
   "cell_type": "code",
   "execution_count": 13,
   "id": "3f6e2e4f-2bf1-4ee5-92b8-91e595c4fc04",
   "metadata": {},
   "outputs": [
    {
     "data": {
      "text/plain": [
       "(500, 2)"
      ]
     },
     "execution_count": 13,
     "metadata": {},
     "output_type": "execute_result"
    }
   ],
   "source": [
    "df.shape"
   ]
  },
  {
   "cell_type": "code",
   "execution_count": 12,
   "id": "b1bb6f01-20eb-4253-8b3d-0ed4fa6bb785",
   "metadata": {},
   "outputs": [
    {
     "name": "stdout",
     "output_type": "stream",
     "text": [
      "./dataset_monkeys\\Monkeys\\Bald Uakari 100\n",
      "./dataset_monkeys\\Monkeys\\Emperor Tamarin 100\n",
      "./dataset_monkeys\\Monkeys\\Mandril 100\n",
      "./dataset_monkeys\\Monkeys\\Proboscis Monkey 100\n",
      "./dataset_monkeys\\Monkeys\\White face saki 100\n"
     ]
    }
   ],
   "source": [
    "for root, dirs, files in os.walk(path):\n",
    "    if len(files)>0:\n",
    "        print(root, len(files))\n",
    "        classpaths.append(root)\n",
    "        df_ = pd.DataFrame(np.array([files, [root for _ in range(len(files))]]).T, columns=['filename', 'class'])\n",
    "        df = pd.concat((df, df_), ignore_index=True)"
   ]
  },
  {
   "cell_type": "code",
   "execution_count": 16,
   "id": "d1f133d7-c745-4390-8060-64039fb522fd",
   "metadata": {
    "scrolled": true
   },
   "outputs": [
    {
     "name": "stdout",
     "output_type": "stream",
     "text": [
      "statistics for ./dataset_monkeys\\Monkeys\\Bald Uakari\n",
      "[[160 160   3]\n",
      " [160 160   3]\n",
      " [160 160   3]\n",
      " [160 160   3]\n",
      " [160 160   3]\n",
      " [160 160   3]\n",
      " [160 160   3]\n",
      " [160 160   3]\n",
      " [160 160   3]\n",
      " [160 160   3]\n",
      " [160 160   3]\n",
      " [160 160   3]\n",
      " [160 160   3]\n",
      " [160 160   3]\n",
      " [160 160   3]\n",
      " [160 160   3]\n",
      " [160 160   3]\n",
      " [160 160   3]\n",
      " [160 160   3]\n",
      " [160 160   3]\n",
      " [160 160   3]\n",
      " [160 160   3]\n",
      " [160 160   3]\n",
      " [160 160   3]\n",
      " [160 160   3]\n",
      " [160 160   3]\n",
      " [160 160   3]\n",
      " [160 160   3]\n",
      " [160 160   3]\n",
      " [160 160   3]\n",
      " [160 160   3]\n",
      " [160 160   3]\n",
      " [160 160   3]\n",
      " [160 160   3]\n",
      " [160 160   3]\n",
      " [160 160   3]\n",
      " [160 160   3]\n",
      " [160 160   3]\n",
      " [160 160   3]\n",
      " [160 160   3]\n",
      " [160 160   3]\n",
      " [160 160   3]\n",
      " [160 160   3]\n",
      " [160 160   3]\n",
      " [160 160   3]\n",
      " [160 160   3]\n",
      " [160 160   3]\n",
      " [160 160   3]\n",
      " [160 160   3]\n",
      " [160 160   3]\n",
      " [160 160   3]\n",
      " [160 160   3]\n",
      " [160 160   3]\n",
      " [160 160   3]\n",
      " [160 160   3]\n",
      " [160 160   3]\n",
      " [160 160   3]\n",
      " [160 160   3]\n",
      " [160 160   3]\n",
      " [160 160   3]\n",
      " [160 160   3]\n",
      " [160 160   3]\n",
      " [160 160   3]\n",
      " [160 160   3]\n",
      " [160 160   3]\n",
      " [160 160   3]\n",
      " [160 160   3]\n",
      " [160 160   3]\n",
      " [160 160   3]\n",
      " [160 160   3]\n",
      " [160 160   3]\n",
      " [160 160   3]\n",
      " [160 160   3]\n",
      " [160 160   3]\n",
      " [160 160   3]\n",
      " [160 160   3]\n",
      " [160 160   3]\n",
      " [160 160   3]\n",
      " [160 160   3]\n",
      " [160 160   3]\n",
      " [160 160   3]\n",
      " [160 160   3]\n",
      " [160 160   3]\n",
      " [160 160   3]\n",
      " [160 160   3]\n",
      " [160 160   3]\n",
      " [160 160   3]\n",
      " [160 160   3]\n",
      " [160 160   3]\n",
      " [160 160   3]\n",
      " [160 160   3]\n",
      " [160 160   3]\n",
      " [160 160   3]\n",
      " [160 160   3]\n",
      " [160 160   3]\n",
      " [160 160   3]\n",
      " [160 160   3]\n",
      " [160 160   3]\n",
      " [160 160   3]\n",
      " [160 160   3]] (array([  3, 160]), array([100, 200], dtype=int64))\n",
      "statistics for ./dataset_monkeys\\Monkeys\\Emperor Tamarin\n",
      "[[160 160   3]\n",
      " [160 160   3]\n",
      " [160 160   3]\n",
      " [160 160   3]\n",
      " [160 160   3]\n",
      " [160 160   3]\n",
      " [160 160   3]\n",
      " [160 160   3]\n",
      " [160 160   3]\n",
      " [160 160   3]\n",
      " [160 160   3]\n",
      " [160 160   3]\n",
      " [160 160   3]\n",
      " [160 160   3]\n",
      " [160 160   3]\n",
      " [160 160   3]\n",
      " [160 160   3]\n",
      " [160 160   3]\n",
      " [160 160   3]\n",
      " [160 160   3]\n",
      " [160 160   3]\n",
      " [160 160   3]\n",
      " [160 160   3]\n",
      " [160 160   3]\n",
      " [160 160   3]\n",
      " [160 160   3]\n",
      " [160 160   3]\n",
      " [160 160   3]\n",
      " [160 160   3]\n",
      " [160 160   3]\n",
      " [160 160   3]\n",
      " [160 160   3]\n",
      " [160 160   3]\n",
      " [160 160   3]\n",
      " [160 160   3]\n",
      " [160 160   3]\n",
      " [160 160   3]\n",
      " [160 160   3]\n",
      " [160 160   3]\n",
      " [160 160   3]\n",
      " [160 160   3]\n",
      " [160 160   3]\n",
      " [160 160   3]\n",
      " [160 160   3]\n",
      " [160 160   3]\n",
      " [160 160   3]\n",
      " [160 160   3]\n",
      " [160 160   3]\n",
      " [160 160   3]\n",
      " [160 160   3]\n",
      " [160 160   3]\n",
      " [160 160   3]\n",
      " [160 160   3]\n",
      " [160 160   3]\n",
      " [160 160   3]\n",
      " [160 160   3]\n",
      " [160 160   3]\n",
      " [160 160   3]\n",
      " [160 160   3]\n",
      " [160 160   3]\n",
      " [160 160   3]\n",
      " [160 160   3]\n",
      " [160 160   3]\n",
      " [160 160   3]\n",
      " [160 160   3]\n",
      " [160 160   3]\n",
      " [160 160   3]\n",
      " [160 160   3]\n",
      " [160 160   3]\n",
      " [160 160   3]\n",
      " [160 160   3]\n",
      " [160 160   3]\n",
      " [160 160   3]\n",
      " [160 160   3]\n",
      " [160 160   3]\n",
      " [160 160   3]\n",
      " [160 160   3]\n",
      " [160 160   3]\n",
      " [160 160   3]\n",
      " [160 160   3]\n",
      " [160 160   3]\n",
      " [160 160   3]\n",
      " [160 160   3]\n",
      " [160 160   3]\n",
      " [160 160   3]\n",
      " [160 160   3]\n",
      " [160 160   3]\n",
      " [160 160   3]\n",
      " [160 160   3]\n",
      " [160 160   3]\n",
      " [160 160   3]\n",
      " [160 160   3]\n",
      " [160 160   3]\n",
      " [160 160   3]\n",
      " [160 160   3]\n",
      " [160 160   3]\n",
      " [160 160   3]\n",
      " [160 160   3]\n",
      " [160 160   3]\n",
      " [160 160   3]] (array([  3, 160]), array([100, 200], dtype=int64))\n",
      "statistics for ./dataset_monkeys\\Monkeys\\Mandril\n",
      "[[160 160   3]\n",
      " [160 160   3]\n",
      " [160 160   3]\n",
      " [160 160   3]\n",
      " [160 160   3]\n",
      " [160 160   3]\n",
      " [160 160   3]\n",
      " [160 160   3]\n",
      " [160 160   3]\n",
      " [160 160   3]\n",
      " [160 160   3]\n",
      " [160 160   3]\n",
      " [160 160   3]\n",
      " [160 160   3]\n",
      " [160 160   3]\n",
      " [160 160   3]\n",
      " [160 160   3]\n",
      " [160 160   3]\n",
      " [160 160   3]\n",
      " [160 160   3]\n",
      " [160 160   3]\n",
      " [160 160   3]\n",
      " [160 160   3]\n",
      " [160 160   3]\n",
      " [160 160   3]\n",
      " [160 160   3]\n",
      " [160 160   3]\n",
      " [160 160   3]\n",
      " [160 160   3]\n",
      " [160 160   3]\n",
      " [160 160   3]\n",
      " [160 160   3]\n",
      " [160 160   3]\n",
      " [160 160   3]\n",
      " [160 160   3]\n",
      " [160 160   3]\n",
      " [160 160   3]\n",
      " [160 160   3]\n",
      " [160 160   3]\n",
      " [160 160   3]\n",
      " [160 160   3]\n",
      " [160 160   3]\n",
      " [160 160   3]\n",
      " [160 160   3]\n",
      " [160 160   3]\n",
      " [160 160   3]\n",
      " [160 160   3]\n",
      " [160 160   3]\n",
      " [160 160   3]\n",
      " [160 160   3]\n",
      " [160 160   3]\n",
      " [160 160   3]\n",
      " [160 160   3]\n",
      " [160 160   3]\n",
      " [160 160   3]\n",
      " [160 160   3]\n",
      " [160 160   3]\n",
      " [160 160   3]\n",
      " [160 160   3]\n",
      " [160 160   3]\n",
      " [160 160   3]\n",
      " [160 160   3]\n",
      " [160 160   3]\n",
      " [160 160   3]\n",
      " [160 160   3]\n",
      " [160 160   3]\n",
      " [160 160   3]\n",
      " [160 160   3]\n",
      " [160 160   3]\n",
      " [160 160   3]\n",
      " [160 160   3]\n",
      " [160 160   3]\n",
      " [160 160   3]\n",
      " [160 160   3]\n",
      " [160 160   3]\n",
      " [160 160   3]\n",
      " [160 160   3]\n",
      " [160 160   3]\n",
      " [160 160   3]\n",
      " [160 160   3]\n",
      " [160 160   3]\n",
      " [160 160   3]\n",
      " [160 160   3]\n",
      " [160 160   3]\n",
      " [160 160   3]\n",
      " [160 160   3]\n",
      " [160 160   3]\n",
      " [160 160   3]\n",
      " [160 160   3]\n",
      " [160 160   3]\n",
      " [160 160   3]\n",
      " [160 160   3]\n",
      " [160 160   3]\n",
      " [160 160   3]\n",
      " [160 160   3]\n",
      " [160 160   3]\n",
      " [160 160   3]\n",
      " [160 160   3]\n",
      " [160 160   3]\n",
      " [160 160   3]] (array([  3, 160]), array([100, 200], dtype=int64))\n",
      "statistics for ./dataset_monkeys\\Monkeys\\Proboscis Monkey\n",
      "[[160 160   3]\n",
      " [160 160   3]\n",
      " [160 160   3]\n",
      " [160 160   3]\n",
      " [160 160   3]\n",
      " [160 160   3]\n",
      " [160 160   3]\n",
      " [160 160   3]\n",
      " [160 160   3]\n",
      " [160 160   3]\n",
      " [160 160   3]\n",
      " [160 160   3]\n",
      " [160 160   3]\n",
      " [160 160   3]\n",
      " [160 160   3]\n",
      " [160 160   3]\n",
      " [160 160   3]\n",
      " [160 160   3]\n",
      " [160 160   3]\n",
      " [160 160   3]\n",
      " [160 160   3]\n",
      " [160 160   3]\n",
      " [160 160   3]\n",
      " [160 160   3]\n",
      " [160 160   3]\n",
      " [160 160   3]\n",
      " [160 160   3]\n",
      " [160 160   3]\n",
      " [160 160   3]\n",
      " [160 160   3]\n",
      " [160 160   3]\n",
      " [160 160   3]\n",
      " [160 160   3]\n",
      " [160 160   3]\n",
      " [160 160   3]\n",
      " [160 160   3]\n",
      " [160 160   3]\n",
      " [160 160   3]\n",
      " [160 160   3]\n",
      " [160 160   3]\n",
      " [160 160   3]\n",
      " [160 160   3]\n",
      " [160 160   3]\n",
      " [160 160   3]\n",
      " [160 160   3]\n",
      " [160 160   3]\n",
      " [160 160   3]\n",
      " [160 160   3]\n",
      " [160 160   3]\n",
      " [160 160   3]\n",
      " [160 160   3]\n",
      " [160 160   3]\n",
      " [160 160   3]\n",
      " [160 160   3]\n",
      " [160 160   3]\n",
      " [160 160   3]\n",
      " [160 160   3]\n",
      " [160 160   3]\n",
      " [160 160   3]\n",
      " [160 160   3]\n",
      " [160 160   3]\n",
      " [160 160   3]\n",
      " [160 160   3]\n",
      " [160 160   3]\n",
      " [160 160   3]\n",
      " [160 160   3]\n",
      " [160 160   3]\n",
      " [160 160   3]\n",
      " [160 160   3]\n",
      " [160 160   3]\n",
      " [160 160   3]\n",
      " [160 160   3]\n",
      " [160 160   3]\n",
      " [160 160   3]\n",
      " [160 160   3]\n",
      " [160 160   3]\n",
      " [160 160   3]\n",
      " [160 160   3]\n",
      " [160 160   3]\n",
      " [160 160   3]\n",
      " [160 160   3]\n",
      " [160 160   3]\n",
      " [160 160   3]\n",
      " [160 160   3]\n",
      " [160 160   3]\n",
      " [160 160   3]\n",
      " [160 160   3]\n",
      " [160 160   3]\n",
      " [160 160   3]\n",
      " [160 160   3]\n",
      " [160 160   3]\n",
      " [160 160   3]\n",
      " [160 160   3]\n",
      " [160 160   3]\n",
      " [160 160   3]\n",
      " [160 160   3]\n",
      " [160 160   3]\n",
      " [160 160   3]\n",
      " [160 160   3]\n",
      " [160 160   3]] (array([  3, 160]), array([100, 200], dtype=int64))\n",
      "statistics for ./dataset_monkeys\\Monkeys\\White face saki\n",
      "[[160 160   3]\n",
      " [160 160   3]\n",
      " [160 160   3]\n",
      " [160 160   3]\n",
      " [160 160   3]\n",
      " [160 160   3]\n",
      " [160 160   3]\n",
      " [160 160   3]\n",
      " [160 160   3]\n",
      " [160 160   3]\n",
      " [160 160   3]\n",
      " [160 160   3]\n",
      " [160 160   3]\n",
      " [160 160   3]\n",
      " [160 160   3]\n",
      " [160 160   3]\n",
      " [160 160   3]\n",
      " [160 160   3]\n",
      " [160 160   3]\n",
      " [160 160   3]\n",
      " [160 160   3]\n",
      " [160 160   3]\n",
      " [160 160   3]\n",
      " [160 160   3]\n",
      " [160 160   3]\n",
      " [160 160   3]\n",
      " [160 160   3]\n",
      " [160 160   3]\n",
      " [160 160   3]\n",
      " [160 160   3]\n",
      " [160 160   3]\n",
      " [160 160   3]\n",
      " [160 160   3]\n",
      " [160 160   3]\n",
      " [160 160   3]\n",
      " [160 160   3]\n",
      " [160 160   3]\n",
      " [160 160   3]\n",
      " [160 160   3]\n",
      " [160 160   3]\n",
      " [160 160   3]\n",
      " [160 160   3]\n",
      " [160 160   3]\n",
      " [160 160   3]\n",
      " [160 160   3]\n",
      " [160 160   3]\n",
      " [160 160   3]\n",
      " [160 160   3]\n",
      " [160 160   3]\n",
      " [160 160   3]\n",
      " [160 160   3]\n",
      " [160 160   3]\n",
      " [160 160   3]\n",
      " [160 160   3]\n",
      " [160 160   3]\n",
      " [160 160   3]\n",
      " [160 160   3]\n",
      " [160 160   3]\n",
      " [160 160   3]\n",
      " [160 160   3]\n",
      " [160 160   3]\n",
      " [160 160   3]\n",
      " [160 160   3]\n",
      " [160 160   3]\n",
      " [160 160   3]\n",
      " [160 160   3]\n",
      " [160 160   3]\n",
      " [160 160   3]\n",
      " [160 160   3]\n",
      " [160 160   3]\n",
      " [160 160   3]\n",
      " [160 160   3]\n",
      " [160 160   3]\n",
      " [160 160   3]\n",
      " [160 160   3]\n",
      " [160 160   3]\n",
      " [160 160   3]\n",
      " [160 160   3]\n",
      " [160 160   3]\n",
      " [160 160   3]\n",
      " [160 160   3]\n",
      " [160 160   3]\n",
      " [160 160   3]\n",
      " [160 160   3]\n",
      " [160 160   3]\n",
      " [160 160   3]\n",
      " [160 160   3]\n",
      " [160 160   3]\n",
      " [160 160   3]\n",
      " [160 160   3]\n",
      " [160 160   3]\n",
      " [160 160   3]\n",
      " [160 160   3]\n",
      " [160 160   3]\n",
      " [160 160   3]\n",
      " [160 160   3]\n",
      " [160 160   3]\n",
      " [160 160   3]\n",
      " [160 160   3]\n",
      " [160 160   3]] (array([  3, 160]), array([100, 200], dtype=int64))\n"
     ]
    }
   ],
   "source": [
    "for classpath in classpaths:\n",
    "    print('statistics for %s'%classpath)\n",
    "    imgs = os.listdir(classpath)\n",
    "    sizes = []\n",
    "    for img in imgs:\n",
    "        cv2img = cv2.imread(os.path.join(classpath, img))\n",
    "        sizes.append(cv2img.shape)\n",
    "    \n",
    "    print(np.asarray(sizes), np.unique(np.asarray(sizes), return_counts=True))"
   ]
  },
  {
   "cell_type": "code",
   "execution_count": 14,
   "id": "3d522623-977f-4347-8b81-0de0a75aa65f",
   "metadata": {},
   "outputs": [],
   "source": [
    "files = os.listdir(classpaths[0])"
   ]
  },
  {
   "cell_type": "code",
   "execution_count": 15,
   "id": "df6bb611-eeeb-4b9a-b753-fdfa83dad0c2",
   "metadata": {},
   "outputs": [],
   "source": [
    "img_test = os.path.join(classpaths[0], files[0])"
   ]
  },
  {
   "cell_type": "code",
   "execution_count": 26,
   "id": "64ad6581-f3ff-4d7f-8560-f959d2271f09",
   "metadata": {},
   "outputs": [],
   "source": [
    "img = cv2.imread(img_test)"
   ]
  },
  {
   "cell_type": "code",
   "execution_count": 27,
   "id": "fc2f010b-e4d6-496f-bdd3-5377a8f61cbc",
   "metadata": {},
   "outputs": [
    {
     "data": {
      "text/plain": [
       "(160, 160, 3)"
      ]
     },
     "execution_count": 27,
     "metadata": {},
     "output_type": "execute_result"
    }
   ],
   "source": [
    "img.shape"
   ]
  },
  {
   "cell_type": "code",
   "execution_count": 17,
   "id": "442c3ad2-5b42-43b9-af3e-3ed50f910747",
   "metadata": {},
   "outputs": [
    {
     "ename": "AxisError",
     "evalue": "source: axis 0 is out of bounds for array of dimension 0",
     "output_type": "error",
     "traceback": [
      "\u001b[1;31m---------------------------------------------------------------------------\u001b[0m",
      "\u001b[1;31mAxisError\u001b[0m                                 Traceback (most recent call last)",
      "Cell \u001b[1;32mIn[17], line 1\u001b[0m\n\u001b[1;32m----> 1\u001b[0m \u001b[43mnp\u001b[49m\u001b[38;5;241;43m.\u001b[39;49m\u001b[43mmoveaxis\u001b[49m\u001b[43m(\u001b[49m\u001b[43mimg\u001b[49m\u001b[43m,\u001b[49m\u001b[43m \u001b[49m\u001b[43m[\u001b[49m\u001b[38;5;241;43m0\u001b[39;49m\u001b[43m,\u001b[49m\u001b[38;5;241;43m1\u001b[39;49m\u001b[43m,\u001b[49m\u001b[38;5;241;43m2\u001b[39;49m\u001b[43m]\u001b[49m\u001b[43m,\u001b[49m\u001b[43m[\u001b[49m\u001b[38;5;241;43m-\u001b[39;49m\u001b[38;5;241;43m3\u001b[39;49m\u001b[43m,\u001b[49m\u001b[38;5;241;43m-\u001b[39;49m\u001b[38;5;241;43m2\u001b[39;49m\u001b[43m,\u001b[49m\u001b[38;5;241;43m-\u001b[39;49m\u001b[38;5;241;43m1\u001b[39;49m\u001b[43m]\u001b[49m\u001b[43m)\u001b[49m[:, :, ::\u001b[38;5;241m-\u001b[39m\u001b[38;5;241m1\u001b[39m]\u001b[38;5;241m.\u001b[39mshape\n",
      "File \u001b[1;32mD:\\RomanCodeTools\\Lib\\site-packages\\numpy\\core\\numeric.py:1449\u001b[0m, in \u001b[0;36mmoveaxis\u001b[1;34m(a, source, destination)\u001b[0m\n\u001b[0;32m   1446\u001b[0m     a \u001b[38;5;241m=\u001b[39m asarray(a)\n\u001b[0;32m   1447\u001b[0m     transpose \u001b[38;5;241m=\u001b[39m a\u001b[38;5;241m.\u001b[39mtranspose\n\u001b[1;32m-> 1449\u001b[0m source \u001b[38;5;241m=\u001b[39m \u001b[43mnormalize_axis_tuple\u001b[49m\u001b[43m(\u001b[49m\u001b[43msource\u001b[49m\u001b[43m,\u001b[49m\u001b[43m \u001b[49m\u001b[43ma\u001b[49m\u001b[38;5;241;43m.\u001b[39;49m\u001b[43mndim\u001b[49m\u001b[43m,\u001b[49m\u001b[43m \u001b[49m\u001b[38;5;124;43m'\u001b[39;49m\u001b[38;5;124;43msource\u001b[39;49m\u001b[38;5;124;43m'\u001b[39;49m\u001b[43m)\u001b[49m\n\u001b[0;32m   1450\u001b[0m destination \u001b[38;5;241m=\u001b[39m normalize_axis_tuple(destination, a\u001b[38;5;241m.\u001b[39mndim, \u001b[38;5;124m'\u001b[39m\u001b[38;5;124mdestination\u001b[39m\u001b[38;5;124m'\u001b[39m)\n\u001b[0;32m   1451\u001b[0m \u001b[38;5;28;01mif\u001b[39;00m \u001b[38;5;28mlen\u001b[39m(source) \u001b[38;5;241m!=\u001b[39m \u001b[38;5;28mlen\u001b[39m(destination):\n",
      "File \u001b[1;32mD:\\RomanCodeTools\\Lib\\site-packages\\numpy\\core\\numeric.py:1380\u001b[0m, in \u001b[0;36mnormalize_axis_tuple\u001b[1;34m(axis, ndim, argname, allow_duplicate)\u001b[0m\n\u001b[0;32m   1378\u001b[0m         \u001b[38;5;28;01mpass\u001b[39;00m\n\u001b[0;32m   1379\u001b[0m \u001b[38;5;66;03m# Going via an iterator directly is slower than via list comprehension.\u001b[39;00m\n\u001b[1;32m-> 1380\u001b[0m axis \u001b[38;5;241m=\u001b[39m \u001b[38;5;28mtuple\u001b[39m([\u001b[43mnormalize_axis_index\u001b[49m\u001b[43m(\u001b[49m\u001b[43max\u001b[49m\u001b[43m,\u001b[49m\u001b[43m \u001b[49m\u001b[43mndim\u001b[49m\u001b[43m,\u001b[49m\u001b[43m \u001b[49m\u001b[43margname\u001b[49m\u001b[43m)\u001b[49m \u001b[38;5;28;01mfor\u001b[39;00m ax \u001b[38;5;129;01min\u001b[39;00m axis])\n\u001b[0;32m   1381\u001b[0m \u001b[38;5;28;01mif\u001b[39;00m \u001b[38;5;129;01mnot\u001b[39;00m allow_duplicate \u001b[38;5;129;01mand\u001b[39;00m \u001b[38;5;28mlen\u001b[39m(\u001b[38;5;28mset\u001b[39m(axis)) \u001b[38;5;241m!=\u001b[39m \u001b[38;5;28mlen\u001b[39m(axis):\n\u001b[0;32m   1382\u001b[0m     \u001b[38;5;28;01mif\u001b[39;00m argname:\n",
      "\u001b[1;31mAxisError\u001b[0m: source: axis 0 is out of bounds for array of dimension 0"
     ]
    }
   ],
   "source": [
    "np.moveaxis(img, [0,1,2],[-3,-2,-1])[:, :, ::-1].shape"
   ]
  },
  {
   "cell_type": "code",
   "execution_count": null,
   "id": "48463711-fbc7-483f-9e17-41c6f0c77f18",
   "metadata": {},
   "outputs": [],
   "source": [
    "plt.imshow(np.moveaxis(img, [0,1,2],[-3,-2,-1])[:, :, ::-1])"
   ]
  },
  {
   "cell_type": "code",
   "execution_count": null,
   "id": "f7d4170d-595b-4214-80c1-769de1d536f7",
   "metadata": {},
   "outputs": [],
   "source": [
    "#each class is balanced"
   ]
  },
  {
   "cell_type": "code",
   "execution_count": 18,
   "id": "a9a9fd63-1c16-4bba-8d64-ecbea71bb17c",
   "metadata": {},
   "outputs": [
    {
     "data": {
      "text/plain": [
       "'./dataset_monkeys\\\\Monkeys\\\\Bald Uakari'"
      ]
     },
     "execution_count": 18,
     "metadata": {},
     "output_type": "execute_result"
    }
   ],
   "source": [
    "classpaths[0]"
   ]
  },
  {
   "cell_type": "code",
   "execution_count": 19,
   "id": "7336d7bd-51ba-4891-961c-7fa138b0441e",
   "metadata": {},
   "outputs": [
    {
     "name": "stdout",
     "output_type": "stream",
     "text": [
      "statistics for ./dataset_monkeys\\Monkeys\\Bald Uakari\n",
      "statistics for ./dataset_monkeys\\Monkeys\\Emperor Tamarin\n",
      "statistics for ./dataset_monkeys\\Monkeys\\Mandril\n",
      "statistics for ./dataset_monkeys\\Monkeys\\Proboscis Monkey\n",
      "statistics for ./dataset_monkeys\\Monkeys\\White face saki\n"
     ]
    }
   ],
   "source": [
    "hlist = []\n",
    "for classpath in classpaths:\n",
    "    print('statistics for %s'%classpath)\n",
    "    imgs = os.listdir(classpath)\n",
    "    sizes = []\n",
    "    for img in imgs:\n",
    "        cv2img = cv2.imread(os.path.join(classpath, img))\n",
    "        \n",
    "        sizes.append(cv2img)\n",
    "    hlist.append(np.asarray(sizes))\n",
    "    \n",
    "    #print(np.asarray(sizes), np.unique(np.asarray(sizes), return_counts=True))"
   ]
  },
  {
   "cell_type": "code",
   "execution_count": 20,
   "id": "67c2c988-3b38-4d31-a39a-cecfce6250d0",
   "metadata": {
    "scrolled": true
   },
   "outputs": [],
   "source": [
    "mean_intens = [h.mean(axis=0) for h in hlist]"
   ]
  },
  {
   "cell_type": "code",
   "execution_count": null,
   "id": "d4739083-0763-4d84-b6fa-66b23d676c78",
   "metadata": {},
   "outputs": [],
   "source": []
  },
  {
   "cell_type": "code",
   "execution_count": 21,
   "id": "cafc7377-7225-4ef8-91cf-03e178b99458",
   "metadata": {},
   "outputs": [
    {
     "data": {
      "image/png": "[encoded data removed]",
      "text/plain": [
       "<Figure size 640x480 with 6 Axes>"
      ]
     },
     "metadata": {},
     "output_type": "display_data"
    }
   ],
   "source": [
    "fig, axs = plt.subplots(6,1)\n",
    "for i, ax in enumerate(axs[:-1]):\n",
    "    ax.imshow(mean_intens[i][:, :, ::-1]/255)\n",
    "axs[-1].imshow(np.asarray(mean_intens).mean(axis=0)[:, :, ::-1]/255)\n",
    "plt.show()"
   ]
  },
  {
   "cell_type": "code",
   "execution_count": 22,
   "id": "b15ea08f-db5a-4731-b779-95a7a1a9a66b",
   "metadata": {},
   "outputs": [],
   "source": [
    "mean = np.asarray(mean_intens).mean(axis=0)[:, :, ::-1].mean(axis=0)"
   ]
  },
  {
   "cell_type": "code",
   "execution_count": 23,
   "id": "b0b214ff-6ddd-462f-88fa-0de9b670c574",
   "metadata": {},
   "outputs": [
    {
     "data": {
      "text/plain": [
       "(160, 3)"
      ]
     },
     "execution_count": 23,
     "metadata": {},
     "output_type": "execute_result"
    }
   ],
   "source": [
    "mean.shape"
   ]
  },
  {
   "cell_type": "code",
   "execution_count": 24,
   "id": "5c46c407-314d-418c-8698-d524b3fe7772",
   "metadata": {},
   "outputs": [],
   "source": [
    "import glob"
   ]
  },
  {
   "cell_type": "code",
   "execution_count": 25,
   "id": "c9c93b88-7d39-4b37-a45c-8e6876dfbce3",
   "metadata": {},
   "outputs": [],
   "source": [
    "df['filename']=df['class']+'\\\\'+df['filename']"
   ]
  },
  {
   "cell_type": "code",
   "execution_count": 26,
   "id": "4db1804a-baa4-4c43-8c4e-0a30af9b3de0",
   "metadata": {},
   "outputs": [],
   "source": [
    "df['class'] = df['class'].apply(lambda s: s.split('\\\\')[-1])"
   ]
  },
  {
   "cell_type": "code",
   "execution_count": 27,
   "id": "0ab9f34c-9480-493b-8741-0da445c5ca9b",
   "metadata": {},
   "outputs": [],
   "source": [
    "rskf = RepeatedStratifiedKFold(n_splits=2, n_repeats=2,\n",
    "    random_state=36851234)"
   ]
  },
  {
   "cell_type": "code",
   "execution_count": 28,
   "id": "d24f4e76-ee35-4c18-9503-715fa9bbe8ae",
   "metadata": {},
   "outputs": [],
   "source": [
    "rskf = RepeatedStratifiedKFold(n_splits=2, n_repeats=1,\n",
    "    random_state=36851234)"
   ]
  },
  {
   "cell_type": "code",
   "execution_count": 29,
   "id": "c75655d4-343a-4c12-b69d-022dd1dbc484",
   "metadata": {},
   "outputs": [
    {
     "data": {
      "text/plain": [
       "<function sklearn.model_selection._split.train_test_split(*arrays, test_size=None, train_size=None, random_state=None, shuffle=True, stratify=None)>"
      ]
     },
     "execution_count": 29,
     "metadata": {},
     "output_type": "execute_result"
    }
   ],
   "source": [
    "train_test_split"
   ]
  },
  {
   "cell_type": "code",
   "execution_count": 30,
   "id": "a4fe6236-b8d1-4011-8ba7-22cb0dbf6460",
   "metadata": {},
   "outputs": [],
   "source": [
    "train, test = train_test_split(df, test_size=0.1)"
   ]
  },
  {
   "cell_type": "code",
   "execution_count": 31,
   "id": "61121e50-c416-4ec4-874a-ee10e3a683b0",
   "metadata": {},
   "outputs": [],
   "source": [
    "rskf = RepeatedStratifiedKFold"
   ]
  },
  {
   "cell_type": "code",
   "execution_count": 45,
   "id": "2e965da6-f751-47db-abf9-a5821fb48d98",
   "metadata": {},
   "outputs": [
    {
     "ename": "AttributeError",
     "evalue": "'DataFrame' object has no attribute 'random_state'",
     "output_type": "error",
     "traceback": [
      "\u001b[1;31m---------------------------------------------------------------------------\u001b[0m",
      "\u001b[1;31mAttributeError\u001b[0m                            Traceback (most recent call last)",
      "\u001b[1;32m~\\AppData\\Local\\Temp\\ipykernel_14236\\17480003.py\u001b[0m in \u001b[0;36m?\u001b[1;34m()\u001b[0m\n\u001b[1;32m----> 1\u001b[1;33m \u001b[0mrskf\u001b[0m\u001b[1;33m.\u001b[0m\u001b[0mget_n_splits\u001b[0m\u001b[1;33m(\u001b[0m\u001b[0mdf\u001b[0m\u001b[1;33m)\u001b[0m\u001b[1;33m\u001b[0m\u001b[1;33m\u001b[0m\u001b[0m\n\u001b[0m",
      "\u001b[1;32mD:\\RomanCodeTools\\Lib\\site-packages\\sklearn\\model_selection\\_split.py\u001b[0m in \u001b[0;36m?\u001b[1;34m(self, X, y, groups)\u001b[0m\n\u001b[0;32m   1650\u001b[0m         \u001b[1;33m-\u001b[0m\u001b[1;33m-\u001b[0m\u001b[1;33m-\u001b[0m\u001b[1;33m-\u001b[0m\u001b[1;33m-\u001b[0m\u001b[1;33m-\u001b[0m\u001b[1;33m-\u001b[0m\u001b[1;33m\u001b[0m\u001b[1;33m\u001b[0m\u001b[0m\n\u001b[0;32m   1651\u001b[0m         \u001b[0mn_splits\u001b[0m \u001b[1;33m:\u001b[0m \u001b[0mint\u001b[0m\u001b[1;33m\u001b[0m\u001b[1;33m\u001b[0m\u001b[0m\n\u001b[0;32m   1652\u001b[0m             \u001b[0mReturns\u001b[0m \u001b[0mthe\u001b[0m \u001b[0mnumber\u001b[0m \u001b[0mof\u001b[0m \u001b[0msplitting\u001b[0m \u001b[0miterations\u001b[0m \u001b[1;32min\u001b[0m \u001b[0mthe\u001b[0m \u001b[0mcross\u001b[0m\u001b[1;33m-\u001b[0m\u001b[0mvalidator\u001b[0m\u001b[1;33m.\u001b[0m\u001b[1;33m\u001b[0m\u001b[1;33m\u001b[0m\u001b[0m\n\u001b[0;32m   1653\u001b[0m         \"\"\"\n\u001b[1;32m-> 1654\u001b[1;33m         \u001b[0mrng\u001b[0m \u001b[1;33m=\u001b[0m \u001b[0mcheck_random_state\u001b[0m\u001b[1;33m(\u001b[0m\u001b[0mself\u001b[0m\u001b[1;33m.\u001b[0m\u001b[0mrandom_state\u001b[0m\u001b[1;33m)\u001b[0m\u001b[1;33m\u001b[0m\u001b[1;33m\u001b[0m\u001b[0m\n\u001b[0m\u001b[0;32m   1655\u001b[0m         \u001b[0mcv\u001b[0m \u001b[1;33m=\u001b[0m \u001b[0mself\u001b[0m\u001b[1;33m.\u001b[0m\u001b[0mcv\u001b[0m\u001b[1;33m(\u001b[0m\u001b[0mrandom_state\u001b[0m\u001b[1;33m=\u001b[0m\u001b[0mrng\u001b[0m\u001b[1;33m,\u001b[0m \u001b[0mshuffle\u001b[0m\u001b[1;33m=\u001b[0m\u001b[1;32mTrue\u001b[0m\u001b[1;33m,\u001b[0m \u001b[1;33m**\u001b[0m\u001b[0mself\u001b[0m\u001b[1;33m.\u001b[0m\u001b[0mcvargs\u001b[0m\u001b[1;33m)\u001b[0m\u001b[1;33m\u001b[0m\u001b[1;33m\u001b[0m\u001b[0m\n\u001b[0;32m   1656\u001b[0m         \u001b[1;32mreturn\u001b[0m \u001b[0mcv\u001b[0m\u001b[1;33m.\u001b[0m\u001b[0mget_n_splits\u001b[0m\u001b[1;33m(\u001b[0m\u001b[0mX\u001b[0m\u001b[1;33m,\u001b[0m \u001b[0my\u001b[0m\u001b[1;33m,\u001b[0m \u001b[0mgroups\u001b[0m\u001b[1;33m)\u001b[0m \u001b[1;33m*\u001b[0m \u001b[0mself\u001b[0m\u001b[1;33m.\u001b[0m\u001b[0mn_repeats\u001b[0m\u001b[1;33m\u001b[0m\u001b[1;33m\u001b[0m\u001b[0m\n",
      "\u001b[1;32mD:\\RomanCodeTools\\Lib\\site-packages\\pandas\\core\\generic.py\u001b[0m in \u001b[0;36m?\u001b[1;34m(self, name)\u001b[0m\n\u001b[0;32m   6295\u001b[0m             \u001b[1;32mand\u001b[0m \u001b[0mname\u001b[0m \u001b[1;32mnot\u001b[0m \u001b[1;32min\u001b[0m \u001b[0mself\u001b[0m\u001b[1;33m.\u001b[0m\u001b[0m_accessors\u001b[0m\u001b[1;33m\u001b[0m\u001b[1;33m\u001b[0m\u001b[0m\n\u001b[0;32m   6296\u001b[0m             \u001b[1;32mand\u001b[0m \u001b[0mself\u001b[0m\u001b[1;33m.\u001b[0m\u001b[0m_info_axis\u001b[0m\u001b[1;33m.\u001b[0m\u001b[0m_can_hold_identifiers_and_holds_name\u001b[0m\u001b[1;33m(\u001b[0m\u001b[0mname\u001b[0m\u001b[1;33m)\u001b[0m\u001b[1;33m\u001b[0m\u001b[1;33m\u001b[0m\u001b[0m\n\u001b[0;32m   6297\u001b[0m         \u001b[1;33m)\u001b[0m\u001b[1;33m:\u001b[0m\u001b[1;33m\u001b[0m\u001b[1;33m\u001b[0m\u001b[0m\n\u001b[0;32m   6298\u001b[0m             \u001b[1;32mreturn\u001b[0m \u001b[0mself\u001b[0m\u001b[1;33m[\u001b[0m\u001b[0mname\u001b[0m\u001b[1;33m]\u001b[0m\u001b[1;33m\u001b[0m\u001b[1;33m\u001b[0m\u001b[0m\n\u001b[1;32m-> 6299\u001b[1;33m         \u001b[1;32mreturn\u001b[0m \u001b[0mobject\u001b[0m\u001b[1;33m.\u001b[0m\u001b[0m__getattribute__\u001b[0m\u001b[1;33m(\u001b[0m\u001b[0mself\u001b[0m\u001b[1;33m,\u001b[0m \u001b[0mname\u001b[0m\u001b[1;33m)\u001b[0m\u001b[1;33m\u001b[0m\u001b[1;33m\u001b[0m\u001b[0m\n\u001b[0m",
      "\u001b[1;31mAttributeError\u001b[0m: 'DataFrame' object has no attribute 'random_state'"
     ]
    }
   ],
   "source": [
    "rskf.get_n_splits(df)"
   ]
  },
  {
   "cell_type": "code",
   "execution_count": 32,
   "id": "2b4117e6-9ac8-42da-9ec7-f30bcfc607bc",
   "metadata": {
    "scrolled": true
   },
   "outputs": [
    {
     "ename": "TypeError",
     "evalue": "RepeatedStratifiedKFold.split() missing 1 required positional argument: 'y'",
     "output_type": "error",
     "traceback": [
      "\u001b[1;31m---------------------------------------------------------------------------\u001b[0m",
      "\u001b[1;31mTypeError\u001b[0m                                 Traceback (most recent call last)",
      "Cell \u001b[1;32mIn[32], line 1\u001b[0m\n\u001b[1;32m----> 1\u001b[0m \u001b[38;5;28;01mfor\u001b[39;00m i, (train_index, test_index) \u001b[38;5;129;01min\u001b[39;00m \u001b[38;5;28menumerate\u001b[39m(\u001b[43mrskf\u001b[49m\u001b[38;5;241;43m.\u001b[39;49m\u001b[43msplit\u001b[49m\u001b[43m(\u001b[49m\u001b[43mdf\u001b[49m\u001b[43m[\u001b[49m\u001b[38;5;124;43m'\u001b[39;49m\u001b[38;5;124;43mfilename\u001b[39;49m\u001b[38;5;124;43m'\u001b[39;49m\u001b[43m]\u001b[49m\u001b[43m,\u001b[49m\u001b[43m \u001b[49m\u001b[43mdf\u001b[49m\u001b[43m[\u001b[49m\u001b[38;5;124;43m'\u001b[39;49m\u001b[38;5;124;43mclass\u001b[39;49m\u001b[38;5;124;43m'\u001b[39;49m\u001b[43m]\u001b[49m\u001b[43m)\u001b[49m):\n\u001b[0;32m      2\u001b[0m     \u001b[38;5;28mprint\u001b[39m(train_index, test_index)\n",
      "\u001b[1;31mTypeError\u001b[0m: RepeatedStratifiedKFold.split() missing 1 required positional argument: 'y'"
     ]
    }
   ],
   "source": [
    "for i, (train_index, test_index) in enumerate(rskf.split(df['filename'], df['class'])):\n",
    "    print(train_index, test_index)"
   ]
  },
  {
   "cell_type": "code",
   "execution_count": 33,
   "id": "e063d30b-4a86-4311-9dc8-35657d575ce7",
   "metadata": {},
   "outputs": [],
   "source": [
    "class MonkeyDataset(Dataset):\n",
    "    def __init__(self, paths, is_train, cls_to_index):\n",
    "        #print(list(range(paths.shape[0])))\n",
    "        self.paths = paths\n",
    "        self.paths.index = list(range(paths.shape[0]))\n",
    "        self.is_train = is_train\n",
    "        self.cls_to_index = cls_to_index\n",
    "\n",
    "    def __getitem__(self, index):\n",
    "        filename, class_name = self.paths.iloc[index, 0], self.paths.iloc[index,1]\n",
    "        if type(class_name) == type('ttt'):\n",
    "            label = self.cls_to_index[class_name]\n",
    "            img = torchvision.io.read_image(filename)\n",
    "        else:\n",
    "            label = class_name.apply(lambda s: self.cls_to_index[s])#self.cls_to_index[class_name]\n",
    "            img = filename.apply(lambda s: torchvision.io.read_image(s))\n",
    "        #if self.is_train:\n",
    "        return img/255., label  \n",
    "\n",
    "    def __len__(self):\n",
    "        return self.paths.shape[0]"
   ]
  },
  {
   "cell_type": "code",
   "execution_count": 34,
   "id": "1e9af569-2622-4967-b789-ca865f9938d8",
   "metadata": {
    "scrolled": true
   },
   "outputs": [],
   "source": [
    "train_ds = MonkeyDataset(train, True, {'Bald Uakari':0, 'Emperor Tamarin':1, 'Mandril':2, 'Proboscis Monkey':3, 'White face saki':4})\n",
    "test_ds = MonkeyDataset(test, True, {'Bald Uakari':0, 'Emperor Tamarin':1, 'Mandril':2, 'Proboscis Monkey':3, 'White face saki':4})"
   ]
  },
  {
   "cell_type": "code",
   "execution_count": 35,
   "id": "ec72e326-aac1-42f9-9620-29a200915281",
   "metadata": {},
   "outputs": [
    {
     "data": {
      "text/plain": [
       "(tensor([[[0.5255, 0.5294, 0.5412,  ..., 0.2078, 0.2118, 0.2196],\n",
       "          [0.5216, 0.5294, 0.5412,  ..., 0.2000, 0.2078, 0.2235],\n",
       "          [0.5176, 0.5255, 0.5451,  ..., 0.2039, 0.2118, 0.2353],\n",
       "          ...,\n",
       "          [0.4863, 0.4784, 0.4745,  ..., 0.1098, 0.1176, 0.1255],\n",
       "          [0.4745, 0.4745, 0.4627,  ..., 0.1647, 0.1529, 0.1725],\n",
       "          [0.4706, 0.4627, 0.4588,  ..., 0.1373, 0.1059, 0.1922]],\n",
       " \n",
       "         [[0.4745, 0.4784, 0.4706,  ..., 0.1294, 0.1216, 0.1333],\n",
       "          [0.4667, 0.4706, 0.4706,  ..., 0.1176, 0.1176, 0.1373],\n",
       "          [0.4549, 0.4667, 0.4745,  ..., 0.1137, 0.1137, 0.1412],\n",
       "          ...,\n",
       "          [0.4824, 0.4745, 0.4667,  ..., 0.1137, 0.1216, 0.1294],\n",
       "          [0.4784, 0.4706, 0.4588,  ..., 0.1686, 0.1569, 0.1765],\n",
       "          [0.4745, 0.4667, 0.4549,  ..., 0.1412, 0.1098, 0.1961]],\n",
       " \n",
       "         [[0.0000, 0.0000, 0.0000,  ..., 0.0000, 0.0000, 0.0000],\n",
       "          [0.0000, 0.0000, 0.0000,  ..., 0.0000, 0.0000, 0.0000],\n",
       "          [0.0000, 0.0000, 0.0000,  ..., 0.0000, 0.0000, 0.0078],\n",
       "          ...,\n",
       "          [0.4039, 0.3922, 0.3686,  ..., 0.1216, 0.1294, 0.1373],\n",
       "          [0.4157, 0.4000, 0.3804,  ..., 0.1765, 0.1647, 0.1843],\n",
       "          [0.4196, 0.4039, 0.3843,  ..., 0.1490, 0.1176, 0.2039]]]),\n",
       " 1)"
      ]
     },
     "execution_count": 35,
     "metadata": {},
     "output_type": "execute_result"
    }
   ],
   "source": [
    "train_ds[0]"
   ]
  },
  {
   "cell_type": "code",
   "execution_count": 36,
   "id": "93b3ee5a-6c79-4018-ad6a-fe9ec03cea29",
   "metadata": {},
   "outputs": [],
   "source": [
    "dataload1 = DataLoader(train_ds, batch_size=16, shuffle=True)\n",
    "dataload2 = DataLoader(test_ds, batch_size=16, shuffle=True)"
   ]
  },
  {
   "cell_type": "code",
   "execution_count": 37,
   "id": "161e4b41-fab4-448b-ad1b-2176e924da00",
   "metadata": {},
   "outputs": [
    {
     "data": {
      "text/plain": [
       "torch.utils.data.dataloader.DataLoader"
      ]
     },
     "execution_count": 37,
     "metadata": {},
     "output_type": "execute_result"
    }
   ],
   "source": [
    "DataLoader"
   ]
  },
  {
   "cell_type": "code",
   "execution_count": null,
   "id": "d27e3e4b-0093-4eac-8648-5ffa82ce4191",
   "metadata": {},
   "outputs": [],
   "source": []
  },
  {
   "cell_type": "code",
   "execution_count": null,
   "id": "73447477-e60b-4323-815d-16314cea5e72",
   "metadata": {},
   "outputs": [],
   "source": []
  },
  {
   "cell_type": "code",
   "execution_count": null,
   "id": "24a056cc-d5ea-4637-aac2-346a8e742b8b",
   "metadata": {},
   "outputs": [],
   "source": []
  },
  {
   "cell_type": "code",
   "execution_count": null,
   "id": "b0761bac-fd4f-4da9-8a7d-1a5038cbb066",
   "metadata": {},
   "outputs": [],
   "source": []
  },
  {
   "cell_type": "code",
   "execution_count": 38,
   "id": "894254fb-9f68-464c-a428-c091331973b7",
   "metadata": {},
   "outputs": [],
   "source": [
    "a = nn.Module#.training"
   ]
  },
  {
   "cell_type": "code",
   "execution_count": 39,
   "id": "fea672ef-a787-4859-b94b-d1253a548ba3",
   "metadata": {},
   "outputs": [],
   "source": [
    "class myNN(Module):\n",
    "    def __init__(self,  hidden_layer_size = 64,\n",
    "                 hidden_layer_num = 3,\n",
    "                 conv_kernel_size = (3,3),\n",
    "                 conv_kernel_stride = 2,\n",
    "                 p_L=0.3, input_shape=(160, 160,3), n_classes=5):\n",
    "        super().__init__()\n",
    "        self.layer0 = nn.Sequential(nn.Conv2d(in_channels = input_shape[-1],\n",
    "                                              out_channels = 64,\n",
    "                                              kernel_size=(5,5),\n",
    "                                              stride = 1,\n",
    "                                             padding = 'same',),\n",
    "                                    #nn.BatchNorm2d(64),\n",
    "                                    nn.MaxPool2d((2, 2)),\n",
    "                                    nn.ReLU(),\n",
    "                                    nn.Conv2d(in_channels = 64,\n",
    "                                            out_channels = 64,\n",
    "                                            kernel_size = (1, 1),\n",
    "                                            stride = 1,\n",
    "                                            padding = 'same',),\n",
    "                                    nn.ReLU(),\n",
    "                                    nn.Conv2d(in_channels = 64,\n",
    "                                    out_channels = 64,\n",
    "                                    kernel_size = (3, 3),\n",
    "                                    stride = 1,\n",
    "                                    padding = 'same',\n",
    "                                    ),\n",
    "                                    nn.ReLU(),\n",
    "                                   )\n",
    "        self.pool = nn.MaxPool2d((2, 2))\n",
    "        self.p_l = p_L\n",
    "        initial_i = 1\n",
    "        layers_len = 6\n",
    "        self.layers = nn.ModuleList([\n",
    "            nn.Sequential(nn.Conv2d(in_channels = 64*i,\n",
    "                out_channels = 64*(i+1),\n",
    "                kernel_size = [3, 3],\n",
    "                stride = 1,\n",
    "                padding = 'same',\n",
    "            ),\n",
    "            #nn.BatchNorm2d(64*(i+1)),\n",
    "            nn.ReLU(),\n",
    "            nn.Conv2d(in_channels = 64*(i+1),\n",
    "                out_channels = 64*(i+1),\n",
    "                kernel_size = [1, 1],\n",
    "                stride = 1,\n",
    "                padding = 'same',\n",
    "            ),\n",
    "            nn.ReLU(),\n",
    "            nn.Conv2d(in_channels = 64*(i+1),\n",
    "                out_channels = 64*(i+1),\n",
    "                kernel_size = [3, 3],\n",
    "                stride = 1,\n",
    "                padding = 'same',\n",
    "            ),nn.MaxPool2d((2, 2))) for i in range(1, layers_len)])\n",
    "        \n",
    "        self.p_s = [1-p_i for p_i in torch.arange(0, p_L, self.p_l/layers_len)]\n",
    "        self.fc = nn.Linear(in_features = 64*(layers_len)*((input_shape[0]//(2**layers_len))**2),\n",
    "                            out_features=n_classes, )\n",
    "        \n",
    "    def forward(self, x_i):\n",
    "        x = self.layer0(x_i)\n",
    "        x_i = nn.functional.pad(self.pool(x_i), (0, 0, 0, 0, 0, x.shape[1]-x_i.shape[1]))\n",
    "        x = x + x_i\n",
    "        ind = 0\n",
    "        if self.training:\n",
    "            for i, module in enumerate(self.layers):\n",
    "                rand = torch.rand((1,)).item()\n",
    "                if rand<=self.p_s[i]:\n",
    "                    #print('completed')\n",
    "                    x_i = module(x)\n",
    "                    x = nn.functional.pad(self.pool(x), (0, 0, 0, 0, 0, x_i.shape[1]-x.shape[1]))\n",
    "                    x = nn.ReLU()(x_i+x)\n",
    "                else:\n",
    "                    #print('skipped')\n",
    "                    x = nn.ReLU()(2*nn.functional.pad(self.pool(x), (0, 0, 0, 0, 0, 64*(i+2)-x.shape[1])))\n",
    "        else:\n",
    "            for i, module in enumerate(self.layers):\n",
    "                x_i = self.p_s[i]*module(x)\n",
    "                x = nn.functional.pad(self.pool(x), (0, 0, 0, 0, 0, x_i.shape[1]-x.shape[1]))\n",
    "                x = nn.ReLU()(x_i+x)\n",
    "        x = self.fc(x.reshape(x.shape[0], -1))\n",
    "        return x"
   ]
  },
  {
   "cell_type": "code",
   "execution_count": 40,
   "id": "5f77b4c2-ccc0-48ed-a253-fa13a9f301e8",
   "metadata": {},
   "outputs": [],
   "source": [
    "nn_ = myNN()"
   ]
  },
  {
   "cell_type": "code",
   "execution_count": 41,
   "id": "76988291-9a24-4c5d-a582-cea99dc05b5d",
   "metadata": {},
   "outputs": [],
   "source": [
    "import tqdm"
   ]
  },
  {
   "cell_type": "code",
   "execution_count": 883,
   "id": "a82dfd69-2c5e-4976-8166-27975c64701e",
   "metadata": {},
   "outputs": [],
   "source": [
    "optimizer = torch.optim.Adam(nn_.parameters(), lr=0.000005)\n",
    "criterion = torch.nn.CrossEntropyLoss()"
   ]
  },
  {
   "cell_type": "code",
   "execution_count": 884,
   "id": "a3b8978a-ba16-4ae6-94ca-473106d5b601",
   "metadata": {},
   "outputs": [
    {
     "data": {
      "text/plain": [
       "CrossEntropyLoss()"
      ]
     },
     "execution_count": 884,
     "metadata": {},
     "output_type": "execute_result"
    }
   ],
   "source": [
    "criterion"
   ]
  },
  {
   "cell_type": "code",
   "execution_count": 42,
   "id": "371ba222-1d13-4683-9c53-397197618b3c",
   "metadata": {},
   "outputs": [],
   "source": [
    "n_epochs = 100"
   ]
  },
  {
   "cell_type": "code",
   "execution_count": 886,
   "id": "4279bbff-1eeb-4ed8-8a05-5ca92423e7ad",
   "metadata": {},
   "outputs": [],
   "source": [
    "train_losses = []\n",
    "test_losses = []"
   ]
  },
  {
   "cell_type": "code",
   "execution_count": 887,
   "id": "311c06fe-965d-4d5c-b5cd-a82d6e8a4cc8",
   "metadata": {},
   "outputs": [],
   "source": [
    "nn_ = nn_.cuda()"
   ]
  },
  {
   "cell_type": "code",
   "execution_count": null,
   "id": "c38dec30-ac7d-41af-9ae6-327695585fe7",
   "metadata": {},
   "outputs": [],
   "source": []
  },
  {
   "cell_type": "code",
   "execution_count": 888,
   "id": "1500ef4d-3e13-4a65-b2dc-1333acc5b2e6",
   "metadata": {
    "scrolled": true
   },
   "outputs": [
    {
     "name": "stdout",
     "output_type": "stream",
     "text": [
      "0\n"
     ]
    },
    {
     "name": "stderr",
     "output_type": "stream",
     "text": [
      "100%|██████████████████████████████████████████████████████████████████████████████████| 29/29 [00:04<00:00,  6.67it/s]\n",
      "100%|████████████████████████████████████████████████████████████████████████████████████| 4/4 [00:00<00:00, 18.60it/s]\n"
     ]
    },
    {
     "name": "stdout",
     "output_type": "stream",
     "text": [
      "test  1.6093767285346985  train  1.6097865474635158\n",
      "1\n"
     ]
    },
    {
     "name": "stderr",
     "output_type": "stream",
     "text": [
      "100%|██████████████████████████████████████████████████████████████████████████████████| 29/29 [00:04<00:00,  7.00it/s]\n",
      "100%|████████████████████████████████████████████████████████████████████████████████████| 4/4 [00:00<00:00, 18.61it/s]\n"
     ]
    },
    {
     "name": "stdout",
     "output_type": "stream",
     "text": [
      "test  1.6097456812858582  train  1.6102269065791164\n",
      "2\n"
     ]
    },
    {
     "name": "stderr",
     "output_type": "stream",
     "text": [
      "100%|██████████████████████████████████████████████████████████████████████████████████| 29/29 [00:04<00:00,  7.04it/s]\n",
      "100%|████████████████████████████████████████████████████████████████████████████████████| 4/4 [00:00<00:00, 18.96it/s]\n"
     ]
    },
    {
     "name": "stdout",
     "output_type": "stream",
     "text": [
      "test  1.610952079296112  train  1.6092473432935517\n",
      "3\n"
     ]
    },
    {
     "name": "stderr",
     "output_type": "stream",
     "text": [
      "100%|██████████████████████████████████████████████████████████████████████████████████| 29/29 [00:04<00:00,  7.02it/s]\n",
      "100%|████████████████████████████████████████████████████████████████████████████████████| 4/4 [00:00<00:00, 17.93it/s]\n"
     ]
    },
    {
     "name": "stdout",
     "output_type": "stream",
     "text": [
      "test  1.6098684072494507  train  1.6090122009145802\n",
      "4\n"
     ]
    },
    {
     "name": "stderr",
     "output_type": "stream",
     "text": [
      "100%|██████████████████████████████████████████████████████████████████████████████████| 29/29 [00:04<00:00,  7.04it/s]\n",
      "100%|████████████████████████████████████████████████████████████████████████████████████| 4/4 [00:00<00:00, 18.78it/s]\n"
     ]
    },
    {
     "name": "stdout",
     "output_type": "stream",
     "text": [
      "test  1.6105188429355621  train  1.6085589466423824\n",
      "5\n"
     ]
    },
    {
     "name": "stderr",
     "output_type": "stream",
     "text": [
      "100%|██████████████████████████████████████████████████████████████████████████████████| 29/29 [00:04<00:00,  7.21it/s]\n",
      "100%|████████████████████████████████████████████████████████████████████████████████████| 4/4 [00:00<00:00, 18.18it/s]\n"
     ]
    },
    {
     "name": "stdout",
     "output_type": "stream",
     "text": [
      "test  1.6083888709545135  train  1.6083868454242576\n",
      "6\n"
     ]
    },
    {
     "name": "stderr",
     "output_type": "stream",
     "text": [
      "100%|██████████████████████████████████████████████████████████████████████████████████| 29/29 [00:04<00:00,  7.22it/s]\n",
      "100%|████████████████████████████████████████████████████████████████████████████████████| 4/4 [00:00<00:00, 18.60it/s]\n"
     ]
    },
    {
     "name": "stdout",
     "output_type": "stream",
     "text": [
      "test  1.610403686761856  train  1.6078783972509976\n",
      "7\n"
     ]
    },
    {
     "name": "stderr",
     "output_type": "stream",
     "text": [
      "100%|██████████████████████████████████████████████████████████████████████████████████| 29/29 [00:04<00:00,  7.19it/s]\n",
      "100%|████████████████████████████████████████████████████████████████████████████████████| 4/4 [00:00<00:00, 19.23it/s]\n"
     ]
    },
    {
     "name": "stdout",
     "output_type": "stream",
     "text": [
      "test  1.6100368201732635  train  1.6078322673666066\n",
      "8\n"
     ]
    },
    {
     "name": "stderr",
     "output_type": "stream",
     "text": [
      "100%|██████████████████████████████████████████████████████████████████████████████████| 29/29 [00:04<00:00,  7.18it/s]\n",
      "100%|████████████████████████████████████████████████████████████████████████████████████| 4/4 [00:00<00:00, 20.18it/s]\n"
     ]
    },
    {
     "name": "stdout",
     "output_type": "stream",
     "text": [
      "test  1.6079226732254028  train  1.607270882047456\n",
      "9\n"
     ]
    },
    {
     "name": "stderr",
     "output_type": "stream",
     "text": [
      "100%|██████████████████████████████████████████████████████████████████████████████████| 29/29 [00:04<00:00,  7.22it/s]\n",
      "100%|████████████████████████████████████████████████████████████████████████████████████| 4/4 [00:00<00:00, 19.70it/s]\n"
     ]
    },
    {
     "name": "stdout",
     "output_type": "stream",
     "text": [
      "test  1.6085887253284454  train  1.6067952945314605\n",
      "10\n"
     ]
    },
    {
     "name": "stderr",
     "output_type": "stream",
     "text": [
      "100%|██████████████████████████████████████████████████████████████████████████████████| 29/29 [00:04<00:00,  7.21it/s]\n",
      "100%|████████████████████████████████████████████████████████████████████████████████████| 4/4 [00:00<00:00, 19.14it/s]\n"
     ]
    },
    {
     "name": "stdout",
     "output_type": "stream",
     "text": [
      "test  1.6103020310401917  train  1.6063658368998561\n",
      "11\n"
     ]
    },
    {
     "name": "stderr",
     "output_type": "stream",
     "text": [
      "100%|██████████████████████████████████████████████████████████████████████████████████| 29/29 [00:04<00:00,  7.12it/s]\n",
      "100%|████████████████████████████████████████████████████████████████████████████████████| 4/4 [00:00<00:00, 19.23it/s]\n"
     ]
    },
    {
     "name": "stdout",
     "output_type": "stream",
     "text": [
      "test  1.608610600233078  train  1.6061984752786571\n",
      "12\n"
     ]
    },
    {
     "name": "stderr",
     "output_type": "stream",
     "text": [
      "100%|██████████████████████████████████████████████████████████████████████████████████| 29/29 [00:04<00:00,  6.80it/s]\n",
      "100%|████████████████████████████████████████████████████████████████████████████████████| 4/4 [00:00<00:00, 19.61it/s]\n"
     ]
    },
    {
     "name": "stdout",
     "output_type": "stream",
     "text": [
      "test  1.6068287193775177  train  1.6054311456351444\n",
      "13\n"
     ]
    },
    {
     "name": "stderr",
     "output_type": "stream",
     "text": [
      "100%|██████████████████████████████████████████████████████████████████████████████████| 29/29 [00:04<00:00,  7.13it/s]\n",
      "100%|████████████████████████████████████████████████████████████████████████████████████| 4/4 [00:00<00:00, 18.96it/s]\n"
     ]
    },
    {
     "name": "stdout",
     "output_type": "stream",
     "text": [
      "test  1.6062099039554596  train  1.6049012315684352\n",
      "14\n"
     ]
    },
    {
     "name": "stderr",
     "output_type": "stream",
     "text": [
      "100%|██████████████████████████████████████████████████████████████████████████████████| 29/29 [00:04<00:00,  7.18it/s]\n",
      "100%|████████████████████████████████████████████████████████████████████████████████████| 4/4 [00:00<00:00, 18.69it/s]\n"
     ]
    },
    {
     "name": "stdout",
     "output_type": "stream",
     "text": [
      "test  1.60505872964859  train  1.6047608112466747\n",
      "15\n"
     ]
    },
    {
     "name": "stderr",
     "output_type": "stream",
     "text": [
      "100%|██████████████████████████████████████████████████████████████████████████████████| 29/29 [00:04<00:00,  7.17it/s]\n",
      "100%|████████████████████████████████████████████████████████████████████████████████████| 4/4 [00:00<00:00, 19.90it/s]\n"
     ]
    },
    {
     "name": "stdout",
     "output_type": "stream",
     "text": [
      "test  1.6068675518035889  train  1.6040285414662854\n",
      "16\n"
     ]
    },
    {
     "name": "stderr",
     "output_type": "stream",
     "text": [
      "100%|██████████████████████████████████████████████████████████████████████████████████| 29/29 [00:04<00:00,  7.23it/s]\n",
      "100%|████████████████████████████████████████████████████████████████████████████████████| 4/4 [00:00<00:00, 19.51it/s]\n"
     ]
    },
    {
     "name": "stdout",
     "output_type": "stream",
     "text": [
      "test  1.6037859618663788  train  1.603772521018982\n",
      "17\n"
     ]
    },
    {
     "name": "stderr",
     "output_type": "stream",
     "text": [
      "100%|██████████████████████████████████████████████████████████████████████████████████| 29/29 [00:04<00:00,  7.09it/s]\n",
      "100%|████████████████████████████████████████████████████████████████████████████████████| 4/4 [00:00<00:00, 18.78it/s]\n"
     ]
    },
    {
     "name": "stdout",
     "output_type": "stream",
     "text": [
      "test  1.6073654294013977  train  1.6042798305379933\n",
      "18\n"
     ]
    },
    {
     "name": "stderr",
     "output_type": "stream",
     "text": [
      "100%|██████████████████████████████████████████████████████████████████████████████████| 29/29 [00:04<00:00,  7.03it/s]\n",
      "100%|████████████████████████████████████████████████████████████████████████████████████| 4/4 [00:00<00:00, 18.78it/s]\n"
     ]
    },
    {
     "name": "stdout",
     "output_type": "stream",
     "text": [
      "test  1.6070105135440826  train  1.6028380188448677\n",
      "19\n"
     ]
    },
    {
     "name": "stderr",
     "output_type": "stream",
     "text": [
      "100%|██████████████████████████████████████████████████████████████████████████████████| 29/29 [00:04<00:00,  7.15it/s]\n",
      "100%|████████████████████████████████████████████████████████████████████████████████████| 4/4 [00:00<00:00, 19.90it/s]\n"
     ]
    },
    {
     "name": "stdout",
     "output_type": "stream",
     "text": [
      "test  1.6061610579490662  train  1.6008500847323188\n",
      "20\n"
     ]
    },
    {
     "name": "stderr",
     "output_type": "stream",
     "text": [
      "100%|██████████████████████████████████████████████████████████████████████████████████| 29/29 [00:04<00:00,  7.13it/s]\n",
      "100%|████████████████████████████████████████████████████████████████████████████████████| 4/4 [00:00<00:00, 19.23it/s]\n"
     ]
    },
    {
     "name": "stdout",
     "output_type": "stream",
     "text": [
      "test  1.6048773229122162  train  1.5998534457436924\n",
      "21\n"
     ]
    },
    {
     "name": "stderr",
     "output_type": "stream",
     "text": [
      "100%|██████████████████████████████████████████████████████████████████████████████████| 29/29 [00:03<00:00,  7.26it/s]\n",
      "100%|████████████████████████████████████████████████████████████████████████████████████| 4/4 [00:00<00:00,  8.96it/s]\n"
     ]
    },
    {
     "name": "stdout",
     "output_type": "stream",
     "text": [
      "test  1.6023294031620026  train  1.5968300021927933\n",
      "22\n"
     ]
    },
    {
     "name": "stderr",
     "output_type": "stream",
     "text": [
      "100%|██████████████████████████████████████████████████████████████████████████████████| 29/29 [00:03<00:00,  7.28it/s]\n",
      "100%|████████████████████████████████████████████████████████████████████████████████████| 4/4 [00:00<00:00, 18.87it/s]\n"
     ]
    },
    {
     "name": "stdout",
     "output_type": "stream",
     "text": [
      "test  1.5995640754699707  train  1.593751574384755\n",
      "23\n"
     ]
    },
    {
     "name": "stderr",
     "output_type": "stream",
     "text": [
      "100%|██████████████████████████████████████████████████████████████████████████████████| 29/29 [00:04<00:00,  7.16it/s]\n",
      "100%|████████████████████████████████████████████████████████████████████████████████████| 4/4 [00:00<00:00, 18.78it/s]\n"
     ]
    },
    {
     "name": "stdout",
     "output_type": "stream",
     "text": [
      "test  1.5977632701396942  train  1.5894826650619507\n",
      "24\n"
     ]
    },
    {
     "name": "stderr",
     "output_type": "stream",
     "text": [
      "100%|██████████████████████████████████████████████████████████████████████████████████| 29/29 [00:04<00:00,  7.15it/s]\n",
      "100%|████████████████████████████████████████████████████████████████████████████████████| 4/4 [00:00<00:00, 19.32it/s]\n"
     ]
    },
    {
     "name": "stdout",
     "output_type": "stream",
     "text": [
      "test  1.5916633605957031  train  1.5843629467076268\n",
      "25\n"
     ]
    },
    {
     "name": "stderr",
     "output_type": "stream",
     "text": [
      "100%|██████████████████████████████████████████████████████████████████████████████████| 29/29 [00:04<00:00,  7.23it/s]\n",
      "100%|████████████████████████████████████████████████████████████████████████████████████| 4/4 [00:00<00:00, 18.69it/s]\n"
     ]
    },
    {
     "name": "stdout",
     "output_type": "stream",
     "text": [
      "test  1.5787465274333954  train  1.5734792701129257\n",
      "26\n"
     ]
    },
    {
     "name": "stderr",
     "output_type": "stream",
     "text": [
      "100%|██████████████████████████████████████████████████████████████████████████████████| 29/29 [00:04<00:00,  7.18it/s]\n",
      "100%|████████████████████████████████████████████████████████████████████████████████████| 4/4 [00:00<00:00, 19.14it/s]\n"
     ]
    },
    {
     "name": "stdout",
     "output_type": "stream",
     "text": [
      "test  1.565634548664093  train  1.5564833427297657\n",
      "27\n"
     ]
    },
    {
     "name": "stderr",
     "output_type": "stream",
     "text": [
      "100%|██████████████████████████████████████████████████████████████████████████████████| 29/29 [00:03<00:00,  7.28it/s]\n",
      "100%|████████████████████████████████████████████████████████████████████████████████████| 4/4 [00:00<00:00, 19.70it/s]\n"
     ]
    },
    {
     "name": "stdout",
     "output_type": "stream",
     "text": [
      "test  1.5099837481975555  train  1.5214817770596207\n",
      "28\n"
     ]
    },
    {
     "name": "stderr",
     "output_type": "stream",
     "text": [
      "100%|██████████████████████████████████████████████████████████████████████████████████| 29/29 [00:04<00:00,  7.18it/s]\n",
      "100%|████████████████████████████████████████████████████████████████████████████████████| 4/4 [00:00<00:00, 18.60it/s]\n"
     ]
    },
    {
     "name": "stdout",
     "output_type": "stream",
     "text": [
      "test  1.4761318862438202  train  1.4701766268960361\n",
      "29\n"
     ]
    },
    {
     "name": "stderr",
     "output_type": "stream",
     "text": [
      "100%|██████████████████████████████████████████████████████████████████████████████████| 29/29 [00:04<00:00,  7.12it/s]\n",
      "100%|████████████████████████████████████████████████████████████████████████████████████| 4/4 [00:00<00:00, 19.05it/s]\n"
     ]
    },
    {
     "name": "stdout",
     "output_type": "stream",
     "text": [
      "test  1.4575354158878326  train  1.4168755967041542\n",
      "30\n"
     ]
    },
    {
     "name": "stderr",
     "output_type": "stream",
     "text": [
      "100%|██████████████████████████████████████████████████████████████████████████████████| 29/29 [00:04<00:00,  7.14it/s]\n",
      "100%|████████████████████████████████████████████████████████████████████████████████████| 4/4 [00:00<00:00, 19.14it/s]\n"
     ]
    },
    {
     "name": "stdout",
     "output_type": "stream",
     "text": [
      "test  1.4107831716537476  train  1.3737913945625568\n",
      "31\n"
     ]
    },
    {
     "name": "stderr",
     "output_type": "stream",
     "text": [
      "100%|██████████████████████████████████████████████████████████████████████████████████| 29/29 [00:04<00:00,  7.12it/s]\n",
      "100%|████████████████████████████████████████████████████████████████████████████████████| 4/4 [00:00<00:00, 20.00it/s]\n"
     ]
    },
    {
     "name": "stdout",
     "output_type": "stream",
     "text": [
      "test  1.3996970057487488  train  1.3215094023737415\n",
      "32\n"
     ]
    },
    {
     "name": "stderr",
     "output_type": "stream",
     "text": [
      "100%|██████████████████████████████████████████████████████████████████████████████████| 29/29 [00:04<00:00,  7.14it/s]\n",
      "100%|████████████████████████████████████████████████████████████████████████████████████| 4/4 [00:00<00:00, 18.52it/s]\n"
     ]
    },
    {
     "name": "stdout",
     "output_type": "stream",
     "text": [
      "test  1.3134214580059052  train  1.32084754006616\n",
      "33\n"
     ]
    },
    {
     "name": "stderr",
     "output_type": "stream",
     "text": [
      "100%|██████████████████████████████████████████████████████████████████████████████████| 29/29 [00:04<00:00,  7.00it/s]\n",
      "100%|████████████████████████████████████████████████████████████████████████████████████| 4/4 [00:00<00:00, 19.61it/s]\n"
     ]
    },
    {
     "name": "stdout",
     "output_type": "stream",
     "text": [
      "test  1.2829233407974243  train  1.29561448097229\n",
      "34\n"
     ]
    },
    {
     "name": "stderr",
     "output_type": "stream",
     "text": [
      "100%|██████████████████████████████████████████████████████████████████████████████████| 29/29 [00:04<00:00,  7.08it/s]\n",
      "100%|████████████████████████████████████████████████████████████████████████████████████| 4/4 [00:00<00:00, 19.51it/s]\n"
     ]
    },
    {
     "name": "stdout",
     "output_type": "stream",
     "text": [
      "test  1.244594231247902  train  1.302711190848515\n",
      "35\n"
     ]
    },
    {
     "name": "stderr",
     "output_type": "stream",
     "text": [
      "100%|██████████████████████████████████████████████████████████████████████████████████| 29/29 [00:04<00:00,  7.11it/s]\n",
      "100%|████████████████████████████████████████████████████████████████████████████████████| 4/4 [00:00<00:00, 19.07it/s]\n"
     ]
    },
    {
     "name": "stdout",
     "output_type": "stream",
     "text": [
      "test  1.340353548526764  train  1.2930747270584106\n",
      "36\n"
     ]
    },
    {
     "name": "stderr",
     "output_type": "stream",
     "text": [
      "100%|██████████████████████████████████████████████████████████████████████████████████| 29/29 [00:04<00:00,  7.16it/s]\n",
      "100%|████████████████████████████████████████████████████████████████████████████████████| 4/4 [00:00<00:00, 18.89it/s]\n"
     ]
    },
    {
     "name": "stdout",
     "output_type": "stream",
     "text": [
      "test  1.3013571798801422  train  1.3084099169435173\n",
      "37\n"
     ]
    },
    {
     "name": "stderr",
     "output_type": "stream",
     "text": [
      "100%|██████████████████████████████████████████████████████████████████████████████████| 29/29 [00:04<00:00,  7.13it/s]\n",
      "100%|████████████████████████████████████████████████████████████████████████████████████| 4/4 [00:00<00:00, 19.05it/s]\n"
     ]
    },
    {
     "name": "stdout",
     "output_type": "stream",
     "text": [
      "test  1.2569661438465118  train  1.2563704252243042\n",
      "38\n"
     ]
    },
    {
     "name": "stderr",
     "output_type": "stream",
     "text": [
      "100%|██████████████████████████████████████████████████████████████████████████████████| 29/29 [00:04<00:00,  7.18it/s]\n",
      "100%|████████████████████████████████████████████████████████████████████████████████████| 4/4 [00:00<00:00, 19.80it/s]\n"
     ]
    },
    {
     "name": "stdout",
     "output_type": "stream",
     "text": [
      "test  1.384962260723114  train  1.2473121100458606\n",
      "39\n"
     ]
    },
    {
     "name": "stderr",
     "output_type": "stream",
     "text": [
      "100%|██████████████████████████████████████████████████████████████████████████████████| 29/29 [00:04<00:00,  7.21it/s]\n",
      "100%|████████████████████████████████████████████████████████████████████████████████████| 4/4 [00:00<00:00, 18.35it/s]\n"
     ]
    },
    {
     "name": "stdout",
     "output_type": "stream",
     "text": [
      "test  1.2554600834846497  train  1.2722001527917797\n",
      "40\n"
     ]
    },
    {
     "name": "stderr",
     "output_type": "stream",
     "text": [
      "100%|██████████████████████████████████████████████████████████████████████████████████| 29/29 [00:04<00:00,  7.19it/s]\n",
      "100%|████████████████████████████████████████████████████████████████████████████████████| 4/4 [00:00<00:00, 19.07it/s]\n"
     ]
    },
    {
     "name": "stdout",
     "output_type": "stream",
     "text": [
      "test  1.25911283493042  train  1.262779239950509\n",
      "41\n"
     ]
    },
    {
     "name": "stderr",
     "output_type": "stream",
     "text": [
      "100%|██████████████████████████████████████████████████████████████████████████████████| 29/29 [00:04<00:00,  7.18it/s]\n",
      "100%|████████████████████████████████████████████████████████████████████████████████████| 4/4 [00:00<00:00, 19.80it/s]\n"
     ]
    },
    {
     "name": "stdout",
     "output_type": "stream",
     "text": [
      "test  1.2256097197532654  train  1.2369909409818978\n",
      "42\n"
     ]
    },
    {
     "name": "stderr",
     "output_type": "stream",
     "text": [
      "100%|██████████████████████████████████████████████████████████████████████████████████| 29/29 [00:04<00:00,  7.08it/s]\n",
      "100%|████████████████████████████████████████████████████████████████████████████████████| 4/4 [00:00<00:00, 18.91it/s]\n"
     ]
    },
    {
     "name": "stdout",
     "output_type": "stream",
     "text": [
      "test  1.2551647126674652  train  1.2148585031772483\n",
      "43\n"
     ]
    },
    {
     "name": "stderr",
     "output_type": "stream",
     "text": [
      "100%|██████████████████████████████████████████████████████████████████████████████████| 29/29 [00:04<00:00,  7.21it/s]\n",
      "100%|████████████████████████████████████████████████████████████████████████████████████| 4/4 [00:00<00:00, 18.98it/s]\n"
     ]
    },
    {
     "name": "stdout",
     "output_type": "stream",
     "text": [
      "test  1.259069710969925  train  1.2495834087503368\n",
      "44\n"
     ]
    },
    {
     "name": "stderr",
     "output_type": "stream",
     "text": [
      "100%|██████████████████████████████████████████████████████████████████████████████████| 29/29 [00:03<00:00,  7.33it/s]\n",
      "100%|████████████████████████████████████████████████████████████████████████████████████| 4/4 [00:00<00:00, 18.55it/s]\n"
     ]
    },
    {
     "name": "stdout",
     "output_type": "stream",
     "text": [
      "test  1.2900537848472595  train  1.2610938836788308\n",
      "45\n"
     ]
    },
    {
     "name": "stderr",
     "output_type": "stream",
     "text": [
      "100%|██████████████████████████████████████████████████████████████████████████████████| 29/29 [00:04<00:00,  7.08it/s]\n",
      "100%|████████████████████████████████████████████████████████████████████████████████████| 4/4 [00:00<00:00, 19.05it/s]\n"
     ]
    },
    {
     "name": "stdout",
     "output_type": "stream",
     "text": [
      "test  1.182260200381279  train  1.2505978551404229\n",
      "46\n"
     ]
    },
    {
     "name": "stderr",
     "output_type": "stream",
     "text": [
      "100%|██████████████████████████████████████████████████████████████████████████████████| 29/29 [00:04<00:00,  7.11it/s]\n",
      "100%|████████████████████████████████████████████████████████████████████████████████████| 4/4 [00:00<00:00, 19.20it/s]\n"
     ]
    },
    {
     "name": "stdout",
     "output_type": "stream",
     "text": [
      "test  1.3342878818511963  train  1.2176868586704648\n",
      "47\n"
     ]
    },
    {
     "name": "stderr",
     "output_type": "stream",
     "text": [
      "100%|██████████████████████████████████████████████████████████████████████████████████| 29/29 [00:04<00:00,  7.11it/s]\n",
      "100%|████████████████████████████████████████████████████████████████████████████████████| 4/4 [00:00<00:00, 19.50it/s]\n"
     ]
    },
    {
     "name": "stdout",
     "output_type": "stream",
     "text": [
      "test  1.2338220179080963  train  1.2123877303353672\n",
      "48\n"
     ]
    },
    {
     "name": "stderr",
     "output_type": "stream",
     "text": [
      "100%|██████████████████████████████████████████████████████████████████████████████████| 29/29 [00:04<00:00,  7.20it/s]\n",
      "100%|████████████████████████████████████████████████████████████████████████████████████| 4/4 [00:00<00:00, 18.87it/s]\n"
     ]
    },
    {
     "name": "stdout",
     "output_type": "stream",
     "text": [
      "test  1.338243454694748  train  1.2301011044403602\n",
      "49\n"
     ]
    },
    {
     "name": "stderr",
     "output_type": "stream",
     "text": [
      "100%|██████████████████████████████████████████████████████████████████████████████████| 29/29 [00:04<00:00,  7.25it/s]\n",
      "100%|████████████████████████████████████████████████████████████████████████████████████| 4/4 [00:00<00:00, 19.14it/s]\n"
     ]
    },
    {
     "name": "stdout",
     "output_type": "stream",
     "text": [
      "test  1.1753206253051758  train  1.2299832742789696\n",
      "50\n"
     ]
    },
    {
     "name": "stderr",
     "output_type": "stream",
     "text": [
      "100%|██████████████████████████████████████████████████████████████████████████████████| 29/29 [00:04<00:00,  7.16it/s]\n",
      "100%|████████████████████████████████████████████████████████████████████████████████████| 4/4 [00:00<00:00, 19.80it/s]\n"
     ]
    },
    {
     "name": "stdout",
     "output_type": "stream",
     "text": [
      "test  1.205807089805603  train  1.218456823250343\n",
      "51\n"
     ]
    },
    {
     "name": "stderr",
     "output_type": "stream",
     "text": [
      "100%|██████████████████████████████████████████████████████████████████████████████████| 29/29 [00:04<00:00,  7.12it/s]\n",
      "100%|████████████████████████████████████████████████████████████████████████████████████| 4/4 [00:00<00:00, 18.87it/s]\n"
     ]
    },
    {
     "name": "stdout",
     "output_type": "stream",
     "text": [
      "test  1.3690976202487946  train  1.2154773720379533\n",
      "52\n"
     ]
    },
    {
     "name": "stderr",
     "output_type": "stream",
     "text": [
      "100%|██████████████████████████████████████████████████████████████████████████████████| 29/29 [00:04<00:00,  7.19it/s]\n",
      "100%|████████████████████████████████████████████████████████████████████████████████████| 4/4 [00:00<00:00, 18.94it/s]\n"
     ]
    },
    {
     "name": "stdout",
     "output_type": "stream",
     "text": [
      "test  1.157319352030754  train  1.200854807064451\n",
      "53\n"
     ]
    },
    {
     "name": "stderr",
     "output_type": "stream",
     "text": [
      "100%|██████████████████████████████████████████████████████████████████████████████████| 29/29 [00:04<00:00,  7.18it/s]\n",
      "100%|████████████████████████████████████████████████████████████████████████████████████| 4/4 [00:00<00:00, 19.42it/s]\n"
     ]
    },
    {
     "name": "stdout",
     "output_type": "stream",
     "text": [
      "test  1.211859256029129  train  1.2351053912064125\n",
      "54\n"
     ]
    },
    {
     "name": "stderr",
     "output_type": "stream",
     "text": [
      "100%|██████████████████████████████████████████████████████████████████████████████████| 29/29 [00:04<00:00,  7.09it/s]\n",
      "100%|████████████████████████████████████████████████████████████████████████████████████| 4/4 [00:00<00:00, 19.14it/s]\n"
     ]
    },
    {
     "name": "stdout",
     "output_type": "stream",
     "text": [
      "test  1.1845091879367828  train  1.2046298138026534\n",
      "55\n"
     ]
    },
    {
     "name": "stderr",
     "output_type": "stream",
     "text": [
      "100%|██████████████████████████████████████████████████████████████████████████████████| 29/29 [00:04<00:00,  7.06it/s]\n",
      "100%|████████████████████████████████████████████████████████████████████████████████████| 4/4 [00:00<00:00, 20.00it/s]\n"
     ]
    },
    {
     "name": "stdout",
     "output_type": "stream",
     "text": [
      "test  1.2312877476215363  train  1.1947027609266083\n",
      "56\n"
     ]
    },
    {
     "name": "stderr",
     "output_type": "stream",
     "text": [
      "100%|██████████████████████████████████████████████████████████████████████████████████| 29/29 [00:04<00:00,  6.71it/s]\n",
      "100%|████████████████████████████████████████████████████████████████████████████████████| 4/4 [00:00<00:00, 18.69it/s]\n"
     ]
    },
    {
     "name": "stdout",
     "output_type": "stream",
     "text": [
      "test  1.284054458141327  train  1.2080320078751137\n",
      "57\n"
     ]
    },
    {
     "name": "stderr",
     "output_type": "stream",
     "text": [
      "100%|██████████████████████████████████████████████████████████████████████████████████| 29/29 [00:04<00:00,  7.17it/s]\n",
      "100%|████████████████████████████████████████████████████████████████████████████████████| 4/4 [00:00<00:00, 18.43it/s]\n"
     ]
    },
    {
     "name": "stdout",
     "output_type": "stream",
     "text": [
      "test  1.3076216578483582  train  1.2060954694090218\n",
      "58\n"
     ]
    },
    {
     "name": "stderr",
     "output_type": "stream",
     "text": [
      "100%|██████████████████████████████████████████████████████████████████████████████████| 29/29 [00:04<00:00,  7.18it/s]\n",
      "100%|████████████████████████████████████████████████████████████████████████████████████| 4/4 [00:00<00:00, 20.10it/s]\n"
     ]
    },
    {
     "name": "stdout",
     "output_type": "stream",
     "text": [
      "test  1.330669492483139  train  1.195784959299811\n",
      "59\n"
     ]
    },
    {
     "name": "stderr",
     "output_type": "stream",
     "text": [
      "100%|██████████████████████████████████████████████████████████████████████████████████| 29/29 [00:04<00:00,  7.12it/s]\n",
      "100%|████████████████████████████████████████████████████████████████████████████████████| 4/4 [00:00<00:00, 19.05it/s]\n"
     ]
    },
    {
     "name": "stdout",
     "output_type": "stream",
     "text": [
      "test  1.1973177194595337  train  1.1716780169256802\n",
      "60\n"
     ]
    },
    {
     "name": "stderr",
     "output_type": "stream",
     "text": [
      "100%|██████████████████████████████████████████████████████████████████████████████████| 29/29 [00:04<00:00,  7.15it/s]\n",
      "100%|████████████████████████████████████████████████████████████████████████████████████| 4/4 [00:00<00:00, 19.42it/s]\n"
     ]
    },
    {
     "name": "stdout",
     "output_type": "stream",
     "text": [
      "test  1.2601826190948486  train  1.1769152797501663\n",
      "61\n"
     ]
    },
    {
     "name": "stderr",
     "output_type": "stream",
     "text": [
      "100%|██████████████████████████████████████████████████████████████████████████████████| 29/29 [00:04<00:00,  7.03it/s]\n",
      "100%|████████████████████████████████████████████████████████████████████████████████████| 4/4 [00:00<00:00, 19.90it/s]\n"
     ]
    },
    {
     "name": "stdout",
     "output_type": "stream",
     "text": [
      "test  1.1793634742498398  train  1.162626827585286\n",
      "62\n"
     ]
    },
    {
     "name": "stderr",
     "output_type": "stream",
     "text": [
      "100%|██████████████████████████████████████████████████████████████████████████████████| 29/29 [00:04<00:00,  7.09it/s]\n",
      "100%|████████████████████████████████████████████████████████████████████████████████████| 4/4 [00:00<00:00, 18.96it/s]\n"
     ]
    },
    {
     "name": "stdout",
     "output_type": "stream",
     "text": [
      "test  1.3150109946727753  train  1.182684770945845\n",
      "63\n"
     ]
    },
    {
     "name": "stderr",
     "output_type": "stream",
     "text": [
      "100%|██████████████████████████████████████████████████████████████████████████████████| 29/29 [00:04<00:00,  7.08it/s]\n",
      "100%|████████████████████████████████████████████████████████████████████████████████████| 4/4 [00:00<00:00, 20.10it/s]\n"
     ]
    },
    {
     "name": "stdout",
     "output_type": "stream",
     "text": [
      "test  1.1695858240127563  train  1.1763155193164432\n",
      "64\n"
     ]
    },
    {
     "name": "stderr",
     "output_type": "stream",
     "text": [
      "100%|██████████████████████████████████████████████████████████████████████████████████| 29/29 [00:04<00:00,  7.10it/s]\n",
      "100%|████████████████████████████████████████████████████████████████████████████████████| 4/4 [00:00<00:00, 17.86it/s]\n"
     ]
    },
    {
     "name": "stdout",
     "output_type": "stream",
     "text": [
      "test  1.2182496786117554  train  1.1826569109127438\n",
      "65\n"
     ]
    },
    {
     "name": "stderr",
     "output_type": "stream",
     "text": [
      "100%|██████████████████████████████████████████████████████████████████████████████████| 29/29 [00:04<00:00,  7.10it/s]\n",
      "100%|████████████████████████████████████████████████████████████████████████████████████| 4/4 [00:00<00:00, 19.14it/s]\n"
     ]
    },
    {
     "name": "stdout",
     "output_type": "stream",
     "text": [
      "test  1.1749715358018875  train  1.1911161870791995\n",
      "66\n"
     ]
    },
    {
     "name": "stderr",
     "output_type": "stream",
     "text": [
      "100%|██████████████████████████████████████████████████████████████████████████████████| 29/29 [00:04<00:00,  7.18it/s]\n",
      "100%|████████████████████████████████████████████████████████████████████████████████████| 4/4 [00:00<00:00, 18.26it/s]\n"
     ]
    },
    {
     "name": "stdout",
     "output_type": "stream",
     "text": [
      "test  1.280613511800766  train  1.1701644494615753\n",
      "67\n"
     ]
    },
    {
     "name": "stderr",
     "output_type": "stream",
     "text": [
      "100%|██████████████████████████████████████████████████████████████████████████████████| 29/29 [00:04<00:00,  7.08it/s]\n",
      "100%|████████████████████████████████████████████████████████████████████████████████████| 4/4 [00:00<00:00, 19.05it/s]\n"
     ]
    },
    {
     "name": "stdout",
     "output_type": "stream",
     "text": [
      "test  1.2311367392539978  train  1.1599582639233819\n",
      "68\n"
     ]
    },
    {
     "name": "stderr",
     "output_type": "stream",
     "text": [
      "100%|██████████████████████████████████████████████████████████████████████████████████| 29/29 [00:04<00:00,  7.13it/s]\n",
      "100%|████████████████████████████████████████████████████████████████████████████████████| 4/4 [00:00<00:00, 17.94it/s]\n"
     ]
    },
    {
     "name": "stdout",
     "output_type": "stream",
     "text": [
      "test  1.1774101257324219  train  1.1743028821616337\n",
      "69\n"
     ]
    },
    {
     "name": "stderr",
     "output_type": "stream",
     "text": [
      "100%|██████████████████████████████████████████████████████████████████████████████████| 29/29 [00:04<00:00,  7.02it/s]\n",
      "100%|████████████████████████████████████████████████████████████████████████████████████| 4/4 [00:00<00:00, 19.14it/s]\n"
     ]
    },
    {
     "name": "stdout",
     "output_type": "stream",
     "text": [
      "test  1.1703787446022034  train  1.1534375198956193\n",
      "70\n"
     ]
    },
    {
     "name": "stderr",
     "output_type": "stream",
     "text": [
      "100%|██████████████████████████████████████████████████████████████████████████████████| 29/29 [00:04<00:00,  7.15it/s]\n",
      "100%|████████████████████████████████████████████████████████████████████████████████████| 4/4 [00:00<00:00, 18.90it/s]\n"
     ]
    },
    {
     "name": "stdout",
     "output_type": "stream",
     "text": [
      "test  1.2817966938018799  train  1.1677401353572976\n",
      "71\n"
     ]
    },
    {
     "name": "stderr",
     "output_type": "stream",
     "text": [
      "100%|██████████████████████████████████████████████████████████████████████████████████| 29/29 [00:04<00:00,  7.15it/s]\n",
      "100%|████████████████████████████████████████████████████████████████████████████████████| 4/4 [00:00<00:00, 19.42it/s]\n"
     ]
    },
    {
     "name": "stdout",
     "output_type": "stream",
     "text": [
      "test  1.1775460541248322  train  1.1648433948385304\n",
      "72\n"
     ]
    },
    {
     "name": "stderr",
     "output_type": "stream",
     "text": [
      "100%|██████████████████████████████████████████████████████████████████████████████████| 29/29 [00:04<00:00,  7.09it/s]\n",
      "100%|████████████████████████████████████████████████████████████████████████████████████| 4/4 [00:00<00:00, 18.87it/s]\n"
     ]
    },
    {
     "name": "stdout",
     "output_type": "stream",
     "text": [
      "test  1.1523705273866653  train  1.1561307660464584\n",
      "73\n"
     ]
    },
    {
     "name": "stderr",
     "output_type": "stream",
     "text": [
      "100%|██████████████████████████████████████████████████████████████████████████████████| 29/29 [00:04<00:00,  7.06it/s]\n",
      "100%|████████████████████████████████████████████████████████████████████████████████████| 4/4 [00:00<00:00, 17.86it/s]\n"
     ]
    },
    {
     "name": "stdout",
     "output_type": "stream",
     "text": [
      "test  1.2421197593212128  train  1.1738324309217518\n",
      "74\n"
     ]
    },
    {
     "name": "stderr",
     "output_type": "stream",
     "text": [
      "100%|██████████████████████████████████████████████████████████████████████████████████| 29/29 [00:04<00:00,  7.08it/s]\n",
      "100%|████████████████████████████████████████████████████████████████████████████████████| 4/4 [00:00<00:00, 18.43it/s]\n"
     ]
    },
    {
     "name": "stdout",
     "output_type": "stream",
     "text": [
      "test  1.2553779184818268  train  1.1426724688760166\n",
      "75\n"
     ]
    },
    {
     "name": "stderr",
     "output_type": "stream",
     "text": [
      "100%|██████████████████████████████████████████████████████████████████████████████████| 29/29 [00:04<00:00,  7.17it/s]\n",
      "100%|████████████████████████████████████████████████████████████████████████████████████| 4/4 [00:00<00:00, 19.51it/s]\n"
     ]
    },
    {
     "name": "stdout",
     "output_type": "stream",
     "text": [
      "test  1.2087040543556213  train  1.1535213980181465\n",
      "76\n"
     ]
    },
    {
     "name": "stderr",
     "output_type": "stream",
     "text": [
      "100%|██████████████████████████████████████████████████████████████████████████████████| 29/29 [00:04<00:00,  7.16it/s]\n",
      "100%|████████████████████████████████████████████████████████████████████████████████████| 4/4 [00:00<00:00, 18.78it/s]\n"
     ]
    },
    {
     "name": "stdout",
     "output_type": "stream",
     "text": [
      "test  1.2615238428115845  train  1.1495254533044224\n",
      "77\n"
     ]
    },
    {
     "name": "stderr",
     "output_type": "stream",
     "text": [
      "100%|██████████████████████████████████████████████████████████████████████████████████| 29/29 [00:04<00:00,  7.11it/s]\n",
      "100%|████████████████████████████████████████████████████████████████████████████████████| 4/4 [00:00<00:00, 19.21it/s]\n"
     ]
    },
    {
     "name": "stdout",
     "output_type": "stream",
     "text": [
      "test  1.2026515007019043  train  1.1518009983260056\n",
      "78\n"
     ]
    },
    {
     "name": "stderr",
     "output_type": "stream",
     "text": [
      "100%|██████████████████████████████████████████████████████████████████████████████████| 29/29 [00:03<00:00,  7.34it/s]\n",
      "100%|████████████████████████████████████████████████████████████████████████████████████| 4/4 [00:00<00:00, 19.51it/s]\n"
     ]
    },
    {
     "name": "stdout",
     "output_type": "stream",
     "text": [
      "test  1.1513013541698456  train  1.2136784833053063\n",
      "79\n"
     ]
    },
    {
     "name": "stderr",
     "output_type": "stream",
     "text": [
      "100%|██████████████████████████████████████████████████████████████████████████████████| 29/29 [00:04<00:00,  7.08it/s]\n",
      "100%|████████████████████████████████████████████████████████████████████████████████████| 4/4 [00:00<00:00, 18.87it/s]\n"
     ]
    },
    {
     "name": "stdout",
     "output_type": "stream",
     "text": [
      "test  1.2293413877487183  train  1.1529560212431282\n",
      "80\n"
     ]
    },
    {
     "name": "stderr",
     "output_type": "stream",
     "text": [
      "100%|██████████████████████████████████████████████████████████████████████████████████| 29/29 [00:03<00:00,  7.25it/s]\n",
      "100%|████████████████████████████████████████████████████████████████████████████████████| 4/4 [00:00<00:00, 19.80it/s]\n"
     ]
    },
    {
     "name": "stdout",
     "output_type": "stream",
     "text": [
      "test  1.25081866979599  train  1.159886978823563\n",
      "81\n"
     ]
    },
    {
     "name": "stderr",
     "output_type": "stream",
     "text": [
      "100%|██████████████████████████████████████████████████████████████████████████████████| 29/29 [00:04<00:00,  7.11it/s]\n",
      "100%|████████████████████████████████████████████████████████████████████████████████████| 4/4 [00:00<00:00, 19.05it/s]\n"
     ]
    },
    {
     "name": "stdout",
     "output_type": "stream",
     "text": [
      "test  1.3034444153308868  train  1.1478514321919144\n",
      "82\n"
     ]
    },
    {
     "name": "stderr",
     "output_type": "stream",
     "text": [
      "100%|██████████████████████████████████████████████████████████████████████████████████| 29/29 [00:04<00:00,  7.19it/s]\n",
      "100%|████████████████████████████████████████████████████████████████████████████████████| 4/4 [00:00<00:00, 19.05it/s]\n"
     ]
    },
    {
     "name": "stdout",
     "output_type": "stream",
     "text": [
      "test  1.3152483403682709  train  1.1575467545410683\n",
      "83\n"
     ]
    },
    {
     "name": "stderr",
     "output_type": "stream",
     "text": [
      "100%|██████████████████████████████████████████████████████████████████████████████████| 29/29 [00:04<00:00,  7.17it/s]\n",
      "100%|████████████████████████████████████████████████████████████████████████████████████| 4/4 [00:00<00:00, 19.14it/s]\n"
     ]
    },
    {
     "name": "stdout",
     "output_type": "stream",
     "text": [
      "test  1.150334745645523  train  1.1569774808554814\n",
      "84\n"
     ]
    },
    {
     "name": "stderr",
     "output_type": "stream",
     "text": [
      "100%|██████████████████████████████████████████████████████████████████████████████████| 29/29 [00:03<00:00,  7.28it/s]\n",
      "100%|████████████████████████████████████████████████████████████████████████████████████| 4/4 [00:00<00:00, 18.37it/s]\n"
     ]
    },
    {
     "name": "stdout",
     "output_type": "stream",
     "text": [
      "test  1.1653824150562286  train  1.1410251342017075\n",
      "85\n"
     ]
    },
    {
     "name": "stderr",
     "output_type": "stream",
     "text": [
      "100%|██████████████████████████████████████████████████████████████████████████████████| 29/29 [00:04<00:00,  7.22it/s]\n",
      "100%|████████████████████████████████████████████████████████████████████████████████████| 4/4 [00:00<00:00, 19.90it/s]\n"
     ]
    },
    {
     "name": "stdout",
     "output_type": "stream",
     "text": [
      "test  1.2352243959903717  train  1.1434601010947392\n",
      "86\n"
     ]
    },
    {
     "name": "stderr",
     "output_type": "stream",
     "text": [
      "100%|██████████████████████████████████████████████████████████████████████████████████| 29/29 [00:03<00:00,  7.30it/s]\n",
      "100%|████████████████████████████████████████████████████████████████████████████████████| 4/4 [00:00<00:00, 19.17it/s]\n"
     ]
    },
    {
     "name": "stdout",
     "output_type": "stream",
     "text": [
      "test  1.1696523129940033  train  1.1431142687797546\n",
      "87\n"
     ]
    },
    {
     "name": "stderr",
     "output_type": "stream",
     "text": [
      "100%|██████████████████████████████████████████████████████████████████████████████████| 29/29 [00:04<00:00,  7.08it/s]\n",
      "100%|████████████████████████████████████████████████████████████████████████████████████| 4/4 [00:00<00:00, 18.87it/s]\n"
     ]
    },
    {
     "name": "stdout",
     "output_type": "stream",
     "text": [
      "test  1.1509828567504883  train  1.1294861312570244\n",
      "88\n"
     ]
    },
    {
     "name": "stderr",
     "output_type": "stream",
     "text": [
      "100%|██████████████████████████████████████████████████████████████████████████████████| 29/29 [00:04<00:00,  7.20it/s]\n",
      "100%|████████████████████████████████████████████████████████████████████████████████████| 4/4 [00:00<00:00, 19.23it/s]\n"
     ]
    },
    {
     "name": "stdout",
     "output_type": "stream",
     "text": [
      "test  1.1459425389766693  train  1.1534572223137165\n",
      "89\n"
     ]
    },
    {
     "name": "stderr",
     "output_type": "stream",
     "text": [
      "100%|██████████████████████████████████████████████████████████████████████████████████| 29/29 [00:04<00:00,  7.14it/s]\n",
      "100%|████████████████████████████████████████████████████████████████████████████████████| 4/4 [00:00<00:00, 19.42it/s]\n"
     ]
    },
    {
     "name": "stdout",
     "output_type": "stream",
     "text": [
      "test  1.1459922194480896  train  1.1363872371870896\n",
      "90\n"
     ]
    },
    {
     "name": "stderr",
     "output_type": "stream",
     "text": [
      "100%|██████████████████████████████████████████████████████████████████████████████████| 29/29 [00:04<00:00,  7.06it/s]\n",
      "100%|████████████████████████████████████████████████████████████████████████████████████| 4/4 [00:00<00:00, 17.94it/s]\n"
     ]
    },
    {
     "name": "stdout",
     "output_type": "stream",
     "text": [
      "test  1.184401050209999  train  1.1550001871996913\n",
      "91\n"
     ]
    },
    {
     "name": "stderr",
     "output_type": "stream",
     "text": [
      "100%|██████████████████████████████████████████████████████████████████████████████████| 29/29 [00:04<00:00,  7.09it/s]\n",
      "100%|████████████████████████████████████████████████████████████████████████████████████| 4/4 [00:00<00:00, 18.85it/s]\n"
     ]
    },
    {
     "name": "stdout",
     "output_type": "stream",
     "text": [
      "test  1.2610411942005157  train  1.1290042503126736\n",
      "92\n"
     ]
    },
    {
     "name": "stderr",
     "output_type": "stream",
     "text": [
      "100%|██████████████████████████████████████████████████████████████████████████████████| 29/29 [00:04<00:00,  7.11it/s]\n",
      "100%|████████████████████████████████████████████████████████████████████████████████████| 4/4 [00:00<00:00, 20.20it/s]\n"
     ]
    },
    {
     "name": "stdout",
     "output_type": "stream",
     "text": [
      "test  1.163703292608261  train  1.150486356225507\n",
      "93\n"
     ]
    },
    {
     "name": "stderr",
     "output_type": "stream",
     "text": [
      "100%|██████████████████████████████████████████████████████████████████████████████████| 29/29 [00:04<00:00,  6.60it/s]\n",
      "100%|████████████████████████████████████████████████████████████████████████████████████| 4/4 [00:00<00:00, 20.20it/s]\n"
     ]
    },
    {
     "name": "stdout",
     "output_type": "stream",
     "text": [
      "test  1.1337438225746155  train  1.1481464320215686\n",
      "94\n"
     ]
    },
    {
     "name": "stderr",
     "output_type": "stream",
     "text": [
      "100%|██████████████████████████████████████████████████████████████████████████████████| 29/29 [00:04<00:00,  7.19it/s]\n",
      "100%|████████████████████████████████████████████████████████████████████████████████████| 4/4 [00:00<00:00, 19.51it/s]\n"
     ]
    },
    {
     "name": "stdout",
     "output_type": "stream",
     "text": [
      "test  1.2354224622249603  train  1.1378185276327462\n",
      "95\n"
     ]
    },
    {
     "name": "stderr",
     "output_type": "stream",
     "text": [
      "100%|██████████████████████████████████████████████████████████████████████████████████| 29/29 [00:04<00:00,  7.14it/s]\n",
      "100%|████████████████████████████████████████████████████████████████████████████████████| 4/4 [00:00<00:00, 18.96it/s]\n"
     ]
    },
    {
     "name": "stdout",
     "output_type": "stream",
     "text": [
      "test  1.1552574783563614  train  1.1799638929038212\n",
      "96\n"
     ]
    },
    {
     "name": "stderr",
     "output_type": "stream",
     "text": [
      "100%|██████████████████████████████████████████████████████████████████████████████████| 29/29 [00:04<00:00,  7.18it/s]\n",
      "100%|████████████████████████████████████████████████████████████████████████████████████| 4/4 [00:00<00:00, 19.14it/s]\n"
     ]
    },
    {
     "name": "stdout",
     "output_type": "stream",
     "text": [
      "test  1.169339507818222  train  1.1430994477765313\n",
      "97\n"
     ]
    },
    {
     "name": "stderr",
     "output_type": "stream",
     "text": [
      "100%|██████████████████████████████████████████████████████████████████████████████████| 29/29 [00:04<00:00,  7.15it/s]\n",
      "100%|████████████████████████████████████████████████████████████████████████████████████| 4/4 [00:00<00:00, 18.96it/s]\n"
     ]
    },
    {
     "name": "stdout",
     "output_type": "stream",
     "text": [
      "test  1.1372142136096954  train  1.1179203226648529\n",
      "98\n"
     ]
    },
    {
     "name": "stderr",
     "output_type": "stream",
     "text": [
      "100%|██████████████████████████████████████████████████████████████████████████████████| 29/29 [00:04<00:00,  7.23it/s]\n",
      "100%|████████████████████████████████████████████████████████████████████████████████████| 4/4 [00:00<00:00, 19.81it/s]\n"
     ]
    },
    {
     "name": "stdout",
     "output_type": "stream",
     "text": [
      "test  1.1827730536460876  train  1.1352375437473428\n",
      "99\n"
     ]
    },
    {
     "name": "stderr",
     "output_type": "stream",
     "text": [
      "100%|██████████████████████████████████████████████████████████████████████████████████| 29/29 [00:04<00:00,  7.18it/s]\n",
      "100%|████████████████████████████████████████████████████████████████████████████████████| 4/4 [00:00<00:00, 19.61it/s]"
     ]
    },
    {
     "name": "stdout",
     "output_type": "stream",
     "text": [
      "test  1.218522310256958  train  1.1265239756682823\n"
     ]
    },
    {
     "name": "stderr",
     "output_type": "stream",
     "text": [
      "\n"
     ]
    }
   ],
   "source": [
    "for i in range(n_epochs):\n",
    "    nn_.train()\n",
    "    print(i)\n",
    "    loss_=0\n",
    "    for x in tqdm.tqdm(dataload1):\n",
    "        res = nn_(x[0].to('cuda'))\n",
    "        preds = res.softmax(dim=-1)#.argmax(dim=-1)\n",
    "        loss = criterion(preds, x[1].to('cuda'))\n",
    "        optimizer.zero_grad()\n",
    "        loss.backward()\n",
    "        optimizer.step()\n",
    "        #print('train', loss)\n",
    "        loss_+=loss.detach().cpu().item()\n",
    "    train_losses.append(loss_/len(dataload1))\n",
    "    nn_.eval()\n",
    "    loss_=0\n",
    "    with torch.inference_mode():\n",
    "        for x in tqdm.tqdm(dataload2):\n",
    "            res = nn_(x[0].to('cuda'))\n",
    "            preds = res.softmax(dim=-1)#.argmax(dim=-1)\n",
    "            loss = criterion(preds, x[1].to('cuda'))\n",
    "            loss_+=loss.detach().cpu().item()\n",
    "    test_losses.append(loss_/len(dataload2))\n",
    "    print('test ', test_losses[-1], ' train ', train_losses[-1])"
   ]
  },
  {
   "cell_type": "code",
   "execution_count": 889,
   "id": "4ad300d8-e083-4f84-85ea-1f5f873a30ba",
   "metadata": {},
   "outputs": [
    {
     "data": {
      "text/plain": [
       "[<matplotlib.lines.Line2D at 0x26fac50b680>]"
      ]
     },
     "execution_count": 889,
     "metadata": {},
     "output_type": "execute_result"
    },
    {
     "data": {
      "image/png": "[encoded data removed]",
      "text/plain": [
       "<Figure size 640x480 with 1 Axes>"
      ]
     },
     "metadata": {},
     "output_type": "display_data"
    }
   ],
   "source": [
    "plt.figure()\n",
    "plt.plot(range(0, len(train_losses)), train_losses)\n",
    "plt.plot(range(0, len(test_losses)), test_losses)"
   ]
  },
  {
   "cell_type": "code",
   "execution_count": 43,
   "id": "73511beb-a8ad-4b82-b031-ccceff28cf88",
   "metadata": {},
   "outputs": [],
   "source": [
    "import lightning as L"
   ]
  },
  {
   "cell_type": "code",
   "execution_count": 105,
   "id": "386a5732-2938-4a03-8a94-e86a91cb435e",
   "metadata": {},
   "outputs": [],
   "source": [
    "class myNN2(Module):\n",
    "    def __init__(self,  hidden_layer_size = 64,\n",
    "                 hidden_layer_num = 7,\n",
    "                 initial_conv_kernel = (7, 7),\n",
    "                 small_detail_kernel = (2,2), \n",
    "                 conv_kernel_size = (4,4),\n",
    "                 conv_kernel_stride = 1,\n",
    "                 p_L=0.5, input_shape=(160, 160,3), n_classes=5):\n",
    "        super().__init__()\n",
    "        self.layer0 = nn.Sequential(nn.Conv2d(in_channels = input_shape[-1],\n",
    "                                              out_channels = hidden_layer_size,\n",
    "                                              kernel_size=small_detail_kernel,\n",
    "                                              stride = 1,\n",
    "                                             padding = 'same',),\n",
    "                                    #nn.BatchNorm2d(64),\n",
    "                                    nn.ReLU(),\n",
    "                                    nn.Conv2d(in_channels = hidden_layer_size,\n",
    "                                            out_channels = hidden_layer_size,\n",
    "                                            kernel_size = conv_kernel_size,\n",
    "                                            stride = 1,\n",
    "                                            padding = 'same',),\n",
    "                                    nn.ReLU(),\n",
    "                                    nn.Conv2d(in_channels = hidden_layer_size,\n",
    "                                    out_channels = hidden_layer_size,\n",
    "                                    kernel_size = conv_kernel_size,\n",
    "                                    stride = conv_kernel_stride,\n",
    "                                    padding = 'same',\n",
    "                                    ),\n",
    "                                    nn.ReLU(),\n",
    "                                    nn.MaxPool2d((2, 2))\n",
    "                                   )\n",
    "        self.pool = nn.MaxPool2d((2, 2))\n",
    "        self.p_l = p_L\n",
    "        initial_i = 1\n",
    "        layers_len = hidden_layer_num\n",
    "        self.hidden_layer_size = hidden_layer_size\n",
    "        self.layers = nn.ModuleList([\n",
    "            nn.Sequential(nn.Conv2d(in_channels = hidden_layer_size*i,\n",
    "                out_channels = hidden_layer_size*(i+1),\n",
    "                kernel_size = small_detail_kernel,\n",
    "                stride = 1,\n",
    "                padding = 'same',\n",
    "            ),\n",
    "            #nn.BatchNorm2d(64*(i+1)),\n",
    "            nn.ReLU(),\n",
    "            nn.Conv2d(in_channels = hidden_layer_size*(i+1),\n",
    "                out_channels = hidden_layer_size*(i+1),\n",
    "                kernel_size = conv_kernel_size,\n",
    "                stride = 1,\n",
    "                padding = 'same',\n",
    "            ),\n",
    "            nn.ReLU(),\n",
    "            nn.Conv2d(in_channels = hidden_layer_size*(i+1),\n",
    "                out_channels = hidden_layer_size*(i+1),\n",
    "                kernel_size = conv_kernel_size,\n",
    "                stride = conv_kernel_stride,\n",
    "                padding = 'same',\n",
    "            ),nn.MaxPool2d((2, 2))) for i in range(1, layers_len)])\n",
    "        \n",
    "        self.p_s = [1-p_i for p_i in torch.arange(0, p_L, self.p_l/layers_len)]\n",
    "        self.fc = nn.Linear(in_features = hidden_layer_size*(layers_len)*((input_shape[0]//(2**layers_len))**2),\n",
    "                            out_features=n_classes, )\n",
    "        \n",
    "    def forward(self, x_i):\n",
    "        x = self.layer0(x_i)\n",
    "        x_i = nn.functional.pad(self.pool(x_i), (0, 0, 0, 0, 0, x.shape[1]-x_i.shape[1]))\n",
    "        x = x + x_i\n",
    "        ind = 0\n",
    "        if self.training:\n",
    "            for i, module in enumerate(self.layers):\n",
    "                rand = torch.rand((1,)).item()\n",
    "                if rand<=self.p_s[i]:\n",
    "                    #print('completed')\n",
    "                    x_i = module(x)\n",
    "                    x = nn.functional.pad(self.pool(x), (0, 0, 0, 0, 0, x_i.shape[1]-x.shape[1]))\n",
    "                    x = nn.ReLU()(x_i+x)\n",
    "                else:\n",
    "                    #print('skipped')\n",
    "                    x = nn.ReLU()(2*nn.functional.pad(self.pool(x), (0, 0, 0, 0, 0, self.hidden_layer_size*(i+2)-x.shape[1])))\n",
    "        else:\n",
    "            for i, module in enumerate(self.layers):\n",
    "                x_i = self.p_s[i]*module(x)\n",
    "                x = nn.functional.pad(self.pool(x), (0, 0, 0, 0, 0, x_i.shape[1]-x.shape[1]))\n",
    "                x = nn.ReLU()(x_i+x)\n",
    "        x = self.fc(x.reshape(x.shape[0], -1))\n",
    "        return x"
   ]
  },
  {
   "cell_type": "code",
   "execution_count": 106,
   "id": "19812498-4a71-4adc-927c-a8573665e53a",
   "metadata": {},
   "outputs": [],
   "source": [
    "class ConvNetModule(L.LightningModule):\n",
    "    def __init__(self, convnet, lr=5e-5):\n",
    "        super().__init__()\n",
    "        self.convnet = convnet\n",
    "        self.lr = lr\n",
    "        self.criterion = torch.nn.CrossEntropyLoss()\n",
    "        self.save_hyperparameters()\n",
    "\n",
    "    def training_step(self, batch, batch_idx):\n",
    "        self.convnet.train()\n",
    "        x, y = batch\n",
    "        y_hat = self.convnet(x)\n",
    "        y_hat = y_hat.softmax(dim=-1)#.argmax(dim=-1)\n",
    "        loss = self.criterion(y_hat, y)\n",
    "        return loss\n",
    "\n",
    "    def configure_optimizers(self):\n",
    "        optimizer = torch.optim.Adam(self.parameters(), lr=self.lr)\n",
    "        return optimizer\n",
    "\n",
    "    def validation_step(self, batch, batch_idx):\n",
    "        # this is the test loop\n",
    "        self.convnet.eval()\n",
    "        x, y = batch\n",
    "        y_hat = self.convnet(x)\n",
    "        y_hat = y_hat.softmax(dim=-1)#.argmax(dim=-1)\n",
    "        loss = self.criterion(y_hat, y)\n",
    "        self.log(\"val_loss\", loss)\n",
    "        return loss"
   ]
  },
  {
   "cell_type": "code",
   "execution_count": 107,
   "id": "cf81b771-f53b-4dcf-9b0b-927af0219234",
   "metadata": {
    "scrolled": true
   },
   "outputs": [
    {
     "name": "stderr",
     "output_type": "stream",
     "text": [
      "You are using the plain ModelCheckpoint callback. Consider using LitModelCheckpoint which with seamless uploading to Model registry.\n",
      "GPU available: True (cuda), used: True\n",
      "TPU available: False, using: 0 TPU cores\n",
      "HPU available: False, using: 0 HPUs\n"
     ]
    }
   ],
   "source": [
    "nn_ = myNN2()\n",
    "module = ConvNetModule(nn_)\n",
    "trainer = L.Trainer(default_root_dir=\"./fofolderer\",log_every_n_steps=29)"
   ]
  },
  {
   "cell_type": "code",
   "execution_count": 57,
   "id": "1ed85f6e-f65a-4de5-9ecc-c1d261cf6fb2",
   "metadata": {},
   "outputs": [],
   "source": [
    "os.mkdir('./modelver2')"
   ]
  },
  {
   "cell_type": "code",
   "execution_count": null,
   "id": "712ce7e5-d9a6-4767-9c2a-969609b9e0d7",
   "metadata": {
    "scrolled": true
   },
   "outputs": [
    {
     "name": "stderr",
     "output_type": "stream",
     "text": [
      "LOCAL_RANK: 0 - CUDA_VISIBLE_DEVICES: [0]\n",
      "\n",
      "  | Name      | Type             | Params | Mode \n",
      "-------------------------------------------------------\n",
      "0 | convnet   | myNN2            | 20.2 M | train\n",
      "1 | criterion | CrossEntropyLoss | 0      | train\n",
      "-------------------------------------------------------\n",
      "20.2 M    Trainable params\n",
      "0         Non-trainable params\n",
      "20.2 M    Total params\n",
      "80.774    Total estimated model params size (MB)\n",
      "55        Modules in train mode\n",
      "0         Modules in eval mode\n"
     ]
    },
    {
     "data": {
      "application/vnd.jupyter.widget-view+json": {
       "model_id": "8182eba7fec7480db315020a2e453611",
       "version_major": 2,
       "version_minor": 0
      },
      "text/plain": [
       "Sanity Checking: |                                                                               | 0/? [00:00<…"
      ]
     },
     "metadata": {},
     "output_type": "display_data"
    },
    {
     "data": {
      "application/vnd.jupyter.widget-view+json": {
       "model_id": "ebb901ffaf6a4ffe84e85d6080f5aa67",
       "version_major": 2,
       "version_minor": 0
      },
      "text/plain": [
       "Training: |                                                                                      | 0/? [00:00<…"
      ]
     },
     "metadata": {},
     "output_type": "display_data"
    },
    {
     "data": {
      "application/vnd.jupyter.widget-view+json": {
       "model_id": "caa8e184296149bc89b3047848bed89f",
       "version_major": 2,
       "version_minor": 0
      },
      "text/plain": [
       "Validation: |                                                                                    | 0/? [00:00<…"
      ]
     },
     "metadata": {},
     "output_type": "display_data"
    },
    {
     "data": {
      "application/vnd.jupyter.widget-view+json": {
       "model_id": "d397edba6cf34ddfa49506ed9e5d4495",
       "version_major": 2,
       "version_minor": 0
      },
      "text/plain": [
       "Validation: |                                                                                    | 0/? [00:00<…"
      ]
     },
     "metadata": {},
     "output_type": "display_data"
    },
    {
     "data": {
      "application/vnd.jupyter.widget-view+json": {
       "model_id": "3c82be6fd02f4051a9a5fb369cb3dcac",
       "version_major": 2,
       "version_minor": 0
      },
      "text/plain": [
       "Validation: |                                                                                    | 0/? [00:00<…"
      ]
     },
     "metadata": {},
     "output_type": "display_data"
    },
    {
     "data": {
      "application/vnd.jupyter.widget-view+json": {
       "model_id": "d1743000878f4ee8a3e2c1ec8c6dd19e",
       "version_major": 2,
       "version_minor": 0
      },
      "text/plain": [
       "Validation: |                                                                                    | 0/? [00:00<…"
      ]
     },
     "metadata": {},
     "output_type": "display_data"
    },
    {
     "data": {
      "application/vnd.jupyter.widget-view+json": {
       "model_id": "42ca7c42f03b4caba2980f7fc8fe33c8",
       "version_major": 2,
       "version_minor": 0
      },
      "text/plain": [
       "Validation: |                                                                                    | 0/? [00:00<…"
      ]
     },
     "metadata": {},
     "output_type": "display_data"
    },
    {
     "data": {
      "application/vnd.jupyter.widget-view+json": {
       "model_id": "7514da219c354150a5eeb509b0094711",
       "version_major": 2,
       "version_minor": 0
      },
      "text/plain": [
       "Validation: |                                                                                    | 0/? [00:00<…"
      ]
     },
     "metadata": {},
     "output_type": "display_data"
    },
    {
     "data": {
      "application/vnd.jupyter.widget-view+json": {
       "model_id": "4e43aea3d35c47fea062743476c637e5",
       "version_major": 2,
       "version_minor": 0
      },
      "text/plain": [
       "Validation: |                                                                                    | 0/? [00:00<…"
      ]
     },
     "metadata": {},
     "output_type": "display_data"
    },
    {
     "data": {
      "application/vnd.jupyter.widget-view+json": {
       "model_id": "64819d8b22b54337a849e936bf7e2882",
       "version_major": 2,
       "version_minor": 0
      },
      "text/plain": [
       "Validation: |                                                                                    | 0/? [00:00<…"
      ]
     },
     "metadata": {},
     "output_type": "display_data"
    },
    {
     "data": {
      "application/vnd.jupyter.widget-view+json": {
       "model_id": "0ab5af62205a40bebb17f9080b0c84dc",
       "version_major": 2,
       "version_minor": 0
      },
      "text/plain": [
       "Validation: |                                                                                    | 0/? [00:00<…"
      ]
     },
     "metadata": {},
     "output_type": "display_data"
    },
    {
     "data": {
      "application/vnd.jupyter.widget-view+json": {
       "model_id": "3f03220730324bb9a386f9727e2638c0",
       "version_major": 2,
       "version_minor": 0
      },
      "text/plain": [
       "Validation: |                                                                                    | 0/? [00:00<…"
      ]
     },
     "metadata": {},
     "output_type": "display_data"
    },
    {
     "data": {
      "application/vnd.jupyter.widget-view+json": {
       "model_id": "3c38bb4b35ff45278d6a3ef74af0bbbb",
       "version_major": 2,
       "version_minor": 0
      },
      "text/plain": [
       "Validation: |                                                                                    | 0/? [00:00<…"
      ]
     },
     "metadata": {},
     "output_type": "display_data"
    },
    {
     "data": {
      "application/vnd.jupyter.widget-view+json": {
       "model_id": "8ceb2ab8ce9a48eebffc037c490b39ac",
       "version_major": 2,
       "version_minor": 0
      },
      "text/plain": [
       "Validation: |                                                                                    | 0/? [00:00<…"
      ]
     },
     "metadata": {},
     "output_type": "display_data"
    },
    {
     "data": {
      "application/vnd.jupyter.widget-view+json": {
       "model_id": "46d77ea55f4a43f08b3782124dca012d",
       "version_major": 2,
       "version_minor": 0
      },
      "text/plain": [
       "Validation: |                                                                                    | 0/? [00:00<…"
      ]
     },
     "metadata": {},
     "output_type": "display_data"
    },
    {
     "data": {
      "application/vnd.jupyter.widget-view+json": {
       "model_id": "34feb33c7b0a441aa5c09688c17a9859",
       "version_major": 2,
       "version_minor": 0
      },
      "text/plain": [
       "Validation: |                                                                                    | 0/? [00:00<…"
      ]
     },
     "metadata": {},
     "output_type": "display_data"
    },
    {
     "data": {
      "application/vnd.jupyter.widget-view+json": {
       "model_id": "c5bc66a6f9ab4118a3c7fe3a11781d2f",
       "version_major": 2,
       "version_minor": 0
      },
      "text/plain": [
       "Validation: |                                                                                    | 0/? [00:00<…"
      ]
     },
     "metadata": {},
     "output_type": "display_data"
    },
    {
     "data": {
      "application/vnd.jupyter.widget-view+json": {
       "model_id": "44bd1e03ce61453dbb32ab136810a1f5",
       "version_major": 2,
       "version_minor": 0
      },
      "text/plain": [
       "Validation: |                                                                                    | 0/? [00:00<…"
      ]
     },
     "metadata": {},
     "output_type": "display_data"
    },
    {
     "data": {
      "application/vnd.jupyter.widget-view+json": {
       "model_id": "db777faf159147a29054534a45862270",
       "version_major": 2,
       "version_minor": 0
      },
      "text/plain": [
       "Validation: |                                                                                    | 0/? [00:00<…"
      ]
     },
     "metadata": {},
     "output_type": "display_data"
    },
    {
     "data": {
      "application/vnd.jupyter.widget-view+json": {
       "model_id": "d10510286dc143caabfaa84b0e390174",
       "version_major": 2,
       "version_minor": 0
      },
      "text/plain": [
       "Validation: |                                                                                    | 0/? [00:00<…"
      ]
     },
     "metadata": {},
     "output_type": "display_data"
    },
    {
     "data": {
      "application/vnd.jupyter.widget-view+json": {
       "model_id": "e90016adae62405abb1ae6de1487c73b",
       "version_major": 2,
       "version_minor": 0
      },
      "text/plain": [
       "Validation: |                                                                                    | 0/? [00:00<…"
      ]
     },
     "metadata": {},
     "output_type": "display_data"
    },
    {
     "data": {
      "application/vnd.jupyter.widget-view+json": {
       "model_id": "ce99b2f57b174ca1bec1fb2b0c3f6697",
       "version_major": 2,
       "version_minor": 0
      },
      "text/plain": [
       "Validation: |                                                                                    | 0/? [00:00<…"
      ]
     },
     "metadata": {},
     "output_type": "display_data"
    },
    {
     "data": {
      "application/vnd.jupyter.widget-view+json": {
       "model_id": "6f43e3d33d9a421f8bba153e382d9f42",
       "version_major": 2,
       "version_minor": 0
      },
      "text/plain": [
       "Validation: |                                                                                    | 0/? [00:00<…"
      ]
     },
     "metadata": {},
     "output_type": "display_data"
    },
    {
     "data": {
      "application/vnd.jupyter.widget-view+json": {
       "model_id": "55c9a338934542768b6a261cc056ee29",
       "version_major": 2,
       "version_minor": 0
      },
      "text/plain": [
       "Validation: |                                                                                    | 0/? [00:00<…"
      ]
     },
     "metadata": {},
     "output_type": "display_data"
    },
    {
     "data": {
      "application/vnd.jupyter.widget-view+json": {
       "model_id": "70aa43f207a44f63a665befe251c49db",
       "version_major": 2,
       "version_minor": 0
      },
      "text/plain": [
       "Validation: |                                                                                    | 0/? [00:00<…"
      ]
     },
     "metadata": {},
     "output_type": "display_data"
    },
    {
     "data": {
      "application/vnd.jupyter.widget-view+json": {
       "model_id": "b321a0a9895f468c9d5300b618b14369",
       "version_major": 2,
       "version_minor": 0
      },
      "text/plain": [
       "Validation: |                                                                                    | 0/? [00:00<…"
      ]
     },
     "metadata": {},
     "output_type": "display_data"
    },
    {
     "data": {
      "application/vnd.jupyter.widget-view+json": {
       "model_id": "fb8caaa992c34b5d972dcb30ca202234",
       "version_major": 2,
       "version_minor": 0
      },
      "text/plain": [
       "Validation: |                                                                                    | 0/? [00:00<…"
      ]
     },
     "metadata": {},
     "output_type": "display_data"
    },
    {
     "data": {
      "application/vnd.jupyter.widget-view+json": {
       "model_id": "fb629f47a0594880bed6312cfe097b29",
       "version_major": 2,
       "version_minor": 0
      },
      "text/plain": [
       "Validation: |                                                                                    | 0/? [00:00<…"
      ]
     },
     "metadata": {},
     "output_type": "display_data"
    },
    {
     "data": {
      "application/vnd.jupyter.widget-view+json": {
       "model_id": "6c382548fb2847c7a6af34841a3c7f7e",
       "version_major": 2,
       "version_minor": 0
      },
      "text/plain": [
       "Validation: |                                                                                    | 0/? [00:00<…"
      ]
     },
     "metadata": {},
     "output_type": "display_data"
    },
    {
     "data": {
      "application/vnd.jupyter.widget-view+json": {
       "model_id": "17b8fdf8ef7e4c0b887f7682b6cedfca",
       "version_major": 2,
       "version_minor": 0
      },
      "text/plain": [
       "Validation: |                                                                                    | 0/? [00:00<…"
      ]
     },
     "metadata": {},
     "output_type": "display_data"
    },
    {
     "data": {
      "application/vnd.jupyter.widget-view+json": {
       "model_id": "441e59df73da4dad9456e9bc1950cca9",
       "version_major": 2,
       "version_minor": 0
      },
      "text/plain": [
       "Validation: |                                                                                    | 0/? [00:00<…"
      ]
     },
     "metadata": {},
     "output_type": "display_data"
    },
    {
     "data": {
      "application/vnd.jupyter.widget-view+json": {
       "model_id": "9443f17f283d45189dfb9a13cf5a9a36",
       "version_major": 2,
       "version_minor": 0
      },
      "text/plain": [
       "Validation: |                                                                                    | 0/? [00:00<…"
      ]
     },
     "metadata": {},
     "output_type": "display_data"
    },
    {
     "data": {
      "application/vnd.jupyter.widget-view+json": {
       "model_id": "a11b771a386d4094b976094d2f1096fa",
       "version_major": 2,
       "version_minor": 0
      },
      "text/plain": [
       "Validation: |                                                                                    | 0/? [00:00<…"
      ]
     },
     "metadata": {},
     "output_type": "display_data"
    },
    {
     "data": {
      "application/vnd.jupyter.widget-view+json": {
       "model_id": "abbbcda7a75a4788ae44d6b45d7bdebd",
       "version_major": 2,
       "version_minor": 0
      },
      "text/plain": [
       "Validation: |                                                                                    | 0/? [00:00<…"
      ]
     },
     "metadata": {},
     "output_type": "display_data"
    },
    {
     "data": {
      "application/vnd.jupyter.widget-view+json": {
       "model_id": "79c6586574244b029fcbbc03b8372732",
       "version_major": 2,
       "version_minor": 0
      },
      "text/plain": [
       "Validation: |                                                                                    | 0/? [00:00<…"
      ]
     },
     "metadata": {},
     "output_type": "display_data"
    },
    {
     "data": {
      "application/vnd.jupyter.widget-view+json": {
       "model_id": "fd1e2fbf84994534a7c52f38ba907d38",
       "version_major": 2,
       "version_minor": 0
      },
      "text/plain": [
       "Validation: |                                                                                    | 0/? [00:00<…"
      ]
     },
     "metadata": {},
     "output_type": "display_data"
    },
    {
     "data": {
      "application/vnd.jupyter.widget-view+json": {
       "model_id": "651e7e240e6a4ddabc46a9ec5d2ac8e0",
       "version_major": 2,
       "version_minor": 0
      },
      "text/plain": [
       "Validation: |                                                                                    | 0/? [00:00<…"
      ]
     },
     "metadata": {},
     "output_type": "display_data"
    },
    {
     "data": {
      "application/vnd.jupyter.widget-view+json": {
       "model_id": "3bcb747d5c22498f9246ff6f72cadb01",
       "version_major": 2,
       "version_minor": 0
      },
      "text/plain": [
       "Validation: |                                                                                    | 0/? [00:00<…"
      ]
     },
     "metadata": {},
     "output_type": "display_data"
    },
    {
     "data": {
      "application/vnd.jupyter.widget-view+json": {
       "model_id": "44dad72cf64c4d40b87606e63cc9fdd9",
       "version_major": 2,
       "version_minor": 0
      },
      "text/plain": [
       "Validation: |                                                                                    | 0/? [00:00<…"
      ]
     },
     "metadata": {},
     "output_type": "display_data"
    },
    {
     "data": {
      "application/vnd.jupyter.widget-view+json": {
       "model_id": "fdda5d1986dc49e2bbcd68f78637b2a2",
       "version_major": 2,
       "version_minor": 0
      },
      "text/plain": [
       "Validation: |                                                                                    | 0/? [00:00<…"
      ]
     },
     "metadata": {},
     "output_type": "display_data"
    },
    {
     "data": {
      "application/vnd.jupyter.widget-view+json": {
       "model_id": "99f1228e64cc48c4ba2d282f09bbe2ab",
       "version_major": 2,
       "version_minor": 0
      },
      "text/plain": [
       "Validation: |                                                                                    | 0/? [00:00<…"
      ]
     },
     "metadata": {},
     "output_type": "display_data"
    },
    {
     "data": {
      "application/vnd.jupyter.widget-view+json": {
       "model_id": "850f0dda75c64a8286b149c75cc1029b",
       "version_major": 2,
       "version_minor": 0
      },
      "text/plain": [
       "Validation: |                                                                                    | 0/? [00:00<…"
      ]
     },
     "metadata": {},
     "output_type": "display_data"
    },
    {
     "data": {
      "application/vnd.jupyter.widget-view+json": {
       "model_id": "145fc5cadd1b400487cc9879ee48864c",
       "version_major": 2,
       "version_minor": 0
      },
      "text/plain": [
       "Validation: |                                                                                    | 0/? [00:00<…"
      ]
     },
     "metadata": {},
     "output_type": "display_data"
    },
    {
     "data": {
      "application/vnd.jupyter.widget-view+json": {
       "model_id": "7c1f27e447904a2cbd7c30f2db416599",
       "version_major": 2,
       "version_minor": 0
      },
      "text/plain": [
       "Validation: |                                                                                    | 0/? [00:00<…"
      ]
     },
     "metadata": {},
     "output_type": "display_data"
    },
    {
     "data": {
      "application/vnd.jupyter.widget-view+json": {
       "model_id": "c6571c97910c473887e2996eec644fcc",
       "version_major": 2,
       "version_minor": 0
      },
      "text/plain": [
       "Validation: |                                                                                    | 0/? [00:00<…"
      ]
     },
     "metadata": {},
     "output_type": "display_data"
    },
    {
     "data": {
      "application/vnd.jupyter.widget-view+json": {
       "model_id": "2bd42279e5bf45d6a92ad28eb6cc29b1",
       "version_major": 2,
       "version_minor": 0
      },
      "text/plain": [
       "Validation: |                                                                                    | 0/? [00:00<…"
      ]
     },
     "metadata": {},
     "output_type": "display_data"
    },
    {
     "data": {
      "application/vnd.jupyter.widget-view+json": {
       "model_id": "f5641ad58c56487abf1e9e212d6a2bd3",
       "version_major": 2,
       "version_minor": 0
      },
      "text/plain": [
       "Validation: |                                                                                    | 0/? [00:00<…"
      ]
     },
     "metadata": {},
     "output_type": "display_data"
    },
    {
     "data": {
      "application/vnd.jupyter.widget-view+json": {
       "model_id": "243536d2e6854996998e6dbb3040a3fb",
       "version_major": 2,
       "version_minor": 0
      },
      "text/plain": [
       "Validation: |                                                                                    | 0/? [00:00<…"
      ]
     },
     "metadata": {},
     "output_type": "display_data"
    },
    {
     "data": {
      "application/vnd.jupyter.widget-view+json": {
       "model_id": "892f270a732145ce947e682c3a505b4b",
       "version_major": 2,
       "version_minor": 0
      },
      "text/plain": [
       "Validation: |                                                                                    | 0/? [00:00<…"
      ]
     },
     "metadata": {},
     "output_type": "display_data"
    },
    {
     "data": {
      "application/vnd.jupyter.widget-view+json": {
       "model_id": "9cee69053e4c41fd95f3139c57c0dfb5",
       "version_major": 2,
       "version_minor": 0
      },
      "text/plain": [
       "Validation: |                                                                                    | 0/? [00:00<…"
      ]
     },
     "metadata": {},
     "output_type": "display_data"
    },
    {
     "data": {
      "application/vnd.jupyter.widget-view+json": {
       "model_id": "996db3af98aa4b0c93c0f67877063cf8",
       "version_major": 2,
       "version_minor": 0
      },
      "text/plain": [
       "Validation: |                                                                                    | 0/? [00:00<…"
      ]
     },
     "metadata": {},
     "output_type": "display_data"
    },
    {
     "data": {
      "application/vnd.jupyter.widget-view+json": {
       "model_id": "257400223376461c8a3bc5c89110c16d",
       "version_major": 2,
       "version_minor": 0
      },
      "text/plain": [
       "Validation: |                                                                                    | 0/? [00:00<…"
      ]
     },
     "metadata": {},
     "output_type": "display_data"
    },
    {
     "data": {
      "application/vnd.jupyter.widget-view+json": {
       "model_id": "b7282efe21084e0fb400bb5874c614b7",
       "version_major": 2,
       "version_minor": 0
      },
      "text/plain": [
       "Validation: |                                                                                    | 0/? [00:00<…"
      ]
     },
     "metadata": {},
     "output_type": "display_data"
    },
    {
     "data": {
      "application/vnd.jupyter.widget-view+json": {
       "model_id": "f009c326b9bc45458c1fef0b3acdbc63",
       "version_major": 2,
       "version_minor": 0
      },
      "text/plain": [
       "Validation: |                                                                                    | 0/? [00:00<…"
      ]
     },
     "metadata": {},
     "output_type": "display_data"
    },
    {
     "data": {
      "application/vnd.jupyter.widget-view+json": {
       "model_id": "4179a604cdc54d098c8c03f617271271",
       "version_major": 2,
       "version_minor": 0
      },
      "text/plain": [
       "Validation: |                                                                                    | 0/? [00:00<…"
      ]
     },
     "metadata": {},
     "output_type": "display_data"
    },
    {
     "data": {
      "application/vnd.jupyter.widget-view+json": {
       "model_id": "14b2e2b65fe645c989219d595f5da3f6",
       "version_major": 2,
       "version_minor": 0
      },
      "text/plain": [
       "Validation: |                                                                                    | 0/? [00:00<…"
      ]
     },
     "metadata": {},
     "output_type": "display_data"
    },
    {
     "data": {
      "application/vnd.jupyter.widget-view+json": {
       "model_id": "175dd2501f574918bd9e8d0e40045d2f",
       "version_major": 2,
       "version_minor": 0
      },
      "text/plain": [
       "Validation: |                                                                                    | 0/? [00:00<…"
      ]
     },
     "metadata": {},
     "output_type": "display_data"
    },
    {
     "data": {
      "application/vnd.jupyter.widget-view+json": {
       "model_id": "2925502758464f3d8ee870baa45a5f12",
       "version_major": 2,
       "version_minor": 0
      },
      "text/plain": [
       "Validation: |                                                                                    | 0/? [00:00<…"
      ]
     },
     "metadata": {},
     "output_type": "display_data"
    },
    {
     "data": {
      "application/vnd.jupyter.widget-view+json": {
       "model_id": "8fed57ff5ad7448c86f02aa2d7fd6e54",
       "version_major": 2,
       "version_minor": 0
      },
      "text/plain": [
       "Validation: |                                                                                    | 0/? [00:00<…"
      ]
     },
     "metadata": {},
     "output_type": "display_data"
    },
    {
     "data": {
      "application/vnd.jupyter.widget-view+json": {
       "model_id": "86eb52e87b414134929a9f3464b1166a",
       "version_major": 2,
       "version_minor": 0
      },
      "text/plain": [
       "Validation: |                                                                                    | 0/? [00:00<…"
      ]
     },
     "metadata": {},
     "output_type": "display_data"
    },
    {
     "data": {
      "application/vnd.jupyter.widget-view+json": {
       "model_id": "965738ab501c4e849447137948daf277",
       "version_major": 2,
       "version_minor": 0
      },
      "text/plain": [
       "Validation: |                                                                                    | 0/? [00:00<…"
      ]
     },
     "metadata": {},
     "output_type": "display_data"
    },
    {
     "data": {
      "application/vnd.jupyter.widget-view+json": {
       "model_id": "4fbd5cfcadbc4db6b6635b8bd6d41f33",
       "version_major": 2,
       "version_minor": 0
      },
      "text/plain": [
       "Validation: |                                                                                    | 0/? [00:00<…"
      ]
     },
     "metadata": {},
     "output_type": "display_data"
    },
    {
     "data": {
      "application/vnd.jupyter.widget-view+json": {
       "model_id": "7ad2e56693bb489eb555b2788845b19c",
       "version_major": 2,
       "version_minor": 0
      },
      "text/plain": [
       "Validation: |                                                                                    | 0/? [00:00<…"
      ]
     },
     "metadata": {},
     "output_type": "display_data"
    },
    {
     "data": {
      "application/vnd.jupyter.widget-view+json": {
       "model_id": "cf95e16c180b4164927da89c57d0000e",
       "version_major": 2,
       "version_minor": 0
      },
      "text/plain": [
       "Validation: |                                                                                    | 0/? [00:00<…"
      ]
     },
     "metadata": {},
     "output_type": "display_data"
    },
    {
     "data": {
      "application/vnd.jupyter.widget-view+json": {
       "model_id": "d7fe4bd35b124fdcb9b86af329400009",
       "version_major": 2,
       "version_minor": 0
      },
      "text/plain": [
       "Validation: |                                                                                    | 0/? [00:00<…"
      ]
     },
     "metadata": {},
     "output_type": "display_data"
    },
    {
     "data": {
      "application/vnd.jupyter.widget-view+json": {
       "model_id": "194265f5a1dc4f6e9b649c0b39073ca7",
       "version_major": 2,
       "version_minor": 0
      },
      "text/plain": [
       "Validation: |                                                                                    | 0/? [00:00<…"
      ]
     },
     "metadata": {},
     "output_type": "display_data"
    },
    {
     "data": {
      "application/vnd.jupyter.widget-view+json": {
       "model_id": "219783e9d2f448bcb0c20837f908b46c",
       "version_major": 2,
       "version_minor": 0
      },
      "text/plain": [
       "Validation: |                                                                                    | 0/? [00:00<…"
      ]
     },
     "metadata": {},
     "output_type": "display_data"
    }
   ],
   "source": [
    "trainer.fit(model=module, train_dataloaders=dataload1, val_dataloaders=dataload2, )"
   ]
  },
  {
   "cell_type": "code",
   "execution_count": null,
   "id": "cb32dbff-6a3c-479b-8231-e62346011003",
   "metadata": {},
   "outputs": [],
   "source": [
    "for i in range(n_epochs):\n",
    "    nn_.train()\n",
    "    print(i)\n",
    "    loss_=0\n",
    "    for x in tqdm.tqdm(dataload1):\n",
    "        res = nn_(x[0].to('cuda'))\n",
    "        preds = res.softmax(dim=-1)#.argmax(dim=-1)\n",
    "        loss = module\n",
    "        optimizer.zero_grad()\n",
    "        loss.backward()\n",
    "        optimizer.step()\n",
    "        #print('train', loss)\n",
    "        loss_+=loss.detach().cpu().item()\n",
    "    train_losses.append(loss_/len(dataload1))\n",
    "    nn_.eval()\n",
    "    loss_=0\n",
    "    with torch.inference_mode():\n",
    "        for x in tqdm.tqdm(dataload2):\n",
    "            res = nn_(x[0].to('cuda'))\n",
    "            preds = res.softmax(dim=-1)#.argmax(dim=-1)\n",
    "            loss = criterion(preds, x[1].to('cuda'))\n",
    "            loss_+=loss.detach().cpu().item()\n",
    "    test_losses.append(loss_/len(dataload2))\n",
    "    print('test ', test_losses[-1], ' train ', train_losses[-1])"
   ]
  },
  {
   "cell_type": "code",
   "execution_count": null,
   "id": "b576133b-1a8c-4836-9a31-e9cda698e5a2",
   "metadata": {},
   "outputs": [],
   "source": [
    "optimizer = module.configure_optimizers()\n",
    "\n",
    "for batch_idx, batch in enumerate(dataloader1):\n",
    "    loss = autoencoder.training_step(batch, batch_idx)\n",
    "\n",
    "    loss.backward()\n",
    "    optimizer.step()\n",
    "    optimizer.zero_grad()"
   ]
  },
  {
   "cell_type": "code",
   "execution_count": 4,
   "id": "091d4aa8-17a7-46b4-a955-6c78e4ab1d9a",
   "metadata": {},
   "outputs": [],
   "source": [
    "a = L.LightningModule()"
   ]
  },
  {
   "cell_type": "code",
   "execution_count": null,
   "id": "e5608ea5-8d77-4e58-982c-c5f0629fdd56",
   "metadata": {},
   "outputs": [],
   "source": []
  },
  {
   "cell_type": "code",
   "execution_count": null,
   "id": "3b9e5651-4570-4e60-a181-0870b4ec8bd6",
   "metadata": {},
   "outputs": [],
   "source": []
  },
  {
   "cell_type": "code",
   "execution_count": null,
   "id": "5ebbd56c-f061-4494-ae85-30879cf11588",
   "metadata": {},
   "outputs": [],
   "source": []
  },
  {
   "cell_type": "code",
   "execution_count": 890,
   "id": "c0bba520-9304-4d61-900c-752d61db9b14",
   "metadata": {
    "scrolled": true
   },
   "outputs": [
    {
     "data": {
      "text/plain": [
       "([1.6097865474635158,\n",
       "  1.6102269065791164,\n",
       "  1.6092473432935517,\n",
       "  1.6090122009145802,\n",
       "  1.6085589466423824,\n",
       "  1.6083868454242576,\n",
       "  1.6078783972509976,\n",
       "  1.6078322673666066,\n",
       "  1.607270882047456,\n",
       "  1.6067952945314605,\n",
       "  1.6063658368998561,\n",
       "  1.6061984752786571,\n",
       "  1.6054311456351444,\n",
       "  1.6049012315684352,\n",
       "  1.6047608112466747,\n",
       "  1.6040285414662854,\n",
       "  1.603772521018982,\n",
       "  1.6042798305379933,\n",
       "  1.6028380188448677,\n",
       "  1.6008500847323188,\n",
       "  1.5998534457436924,\n",
       "  1.5968300021927933,\n",
       "  1.593751574384755,\n",
       "  1.5894826650619507,\n",
       "  1.5843629467076268,\n",
       "  1.5734792701129257,\n",
       "  1.5564833427297657,\n",
       "  1.5214817770596207,\n",
       "  1.4701766268960361,\n",
       "  1.4168755967041542,\n",
       "  1.3737913945625568,\n",
       "  1.3215094023737415,\n",
       "  1.32084754006616,\n",
       "  1.29561448097229,\n",
       "  1.302711190848515,\n",
       "  1.2930747270584106,\n",
       "  1.3084099169435173,\n",
       "  1.2563704252243042,\n",
       "  1.2473121100458606,\n",
       "  1.2722001527917797,\n",
       "  1.262779239950509,\n",
       "  1.2369909409818978,\n",
       "  1.2148585031772483,\n",
       "  1.2495834087503368,\n",
       "  1.2610938836788308,\n",
       "  1.2505978551404229,\n",
       "  1.2176868586704648,\n",
       "  1.2123877303353672,\n",
       "  1.2301011044403602,\n",
       "  1.2299832742789696,\n",
       "  1.218456823250343,\n",
       "  1.2154773720379533,\n",
       "  1.200854807064451,\n",
       "  1.2351053912064125,\n",
       "  1.2046298138026534,\n",
       "  1.1947027609266083,\n",
       "  1.2080320078751137,\n",
       "  1.2060954694090218,\n",
       "  1.195784959299811,\n",
       "  1.1716780169256802,\n",
       "  1.1769152797501663,\n",
       "  1.162626827585286,\n",
       "  1.182684770945845,\n",
       "  1.1763155193164432,\n",
       "  1.1826569109127438,\n",
       "  1.1911161870791995,\n",
       "  1.1701644494615753,\n",
       "  1.1599582639233819,\n",
       "  1.1743028821616337,\n",
       "  1.1534375198956193,\n",
       "  1.1677401353572976,\n",
       "  1.1648433948385304,\n",
       "  1.1561307660464584,\n",
       "  1.1738324309217518,\n",
       "  1.1426724688760166,\n",
       "  1.1535213980181465,\n",
       "  1.1495254533044224,\n",
       "  1.1518009983260056,\n",
       "  1.2136784833053063,\n",
       "  1.1529560212431282,\n",
       "  1.159886978823563,\n",
       "  1.1478514321919144,\n",
       "  1.1575467545410683,\n",
       "  1.1569774808554814,\n",
       "  1.1410251342017075,\n",
       "  1.1434601010947392,\n",
       "  1.1431142687797546,\n",
       "  1.1294861312570244,\n",
       "  1.1534572223137165,\n",
       "  1.1363872371870896,\n",
       "  1.1550001871996913,\n",
       "  1.1290042503126736,\n",
       "  1.150486356225507,\n",
       "  1.1481464320215686,\n",
       "  1.1378185276327462,\n",
       "  1.1799638929038212,\n",
       "  1.1430994477765313,\n",
       "  1.1179203226648529,\n",
       "  1.1352375437473428,\n",
       "  1.1265239756682823],\n",
       " [1.6093767285346985,\n",
       "  1.6097456812858582,\n",
       "  1.610952079296112,\n",
       "  1.6098684072494507,\n",
       "  1.6105188429355621,\n",
       "  1.6083888709545135,\n",
       "  1.610403686761856,\n",
       "  1.6100368201732635,\n",
       "  1.6079226732254028,\n",
       "  1.6085887253284454,\n",
       "  1.6103020310401917,\n",
       "  1.608610600233078,\n",
       "  1.6068287193775177,\n",
       "  1.6062099039554596,\n",
       "  1.60505872964859,\n",
       "  1.6068675518035889,\n",
       "  1.6037859618663788,\n",
       "  1.6073654294013977,\n",
       "  1.6070105135440826,\n",
       "  1.6061610579490662,\n",
       "  1.6048773229122162,\n",
       "  1.6023294031620026,\n",
       "  1.5995640754699707,\n",
       "  1.5977632701396942,\n",
       "  1.5916633605957031,\n",
       "  1.5787465274333954,\n",
       "  1.565634548664093,\n",
       "  1.5099837481975555,\n",
       "  1.4761318862438202,\n",
       "  1.4575354158878326,\n",
       "  1.4107831716537476,\n",
       "  1.3996970057487488,\n",
       "  1.3134214580059052,\n",
       "  1.2829233407974243,\n",
       "  1.244594231247902,\n",
       "  1.340353548526764,\n",
       "  1.3013571798801422,\n",
       "  1.2569661438465118,\n",
       "  1.384962260723114,\n",
       "  1.2554600834846497,\n",
       "  1.25911283493042,\n",
       "  1.2256097197532654,\n",
       "  1.2551647126674652,\n",
       "  1.259069710969925,\n",
       "  1.2900537848472595,\n",
       "  1.182260200381279,\n",
       "  1.3342878818511963,\n",
       "  1.2338220179080963,\n",
       "  1.338243454694748,\n",
       "  1.1753206253051758,\n",
       "  1.205807089805603,\n",
       "  1.3690976202487946,\n",
       "  1.157319352030754,\n",
       "  1.211859256029129,\n",
       "  1.1845091879367828,\n",
       "  1.2312877476215363,\n",
       "  1.284054458141327,\n",
       "  1.3076216578483582,\n",
       "  1.330669492483139,\n",
       "  1.1973177194595337,\n",
       "  1.2601826190948486,\n",
       "  1.1793634742498398,\n",
       "  1.3150109946727753,\n",
       "  1.1695858240127563,\n",
       "  1.2182496786117554,\n",
       "  1.1749715358018875,\n",
       "  1.280613511800766,\n",
       "  1.2311367392539978,\n",
       "  1.1774101257324219,\n",
       "  1.1703787446022034,\n",
       "  1.2817966938018799,\n",
       "  1.1775460541248322,\n",
       "  1.1523705273866653,\n",
       "  1.2421197593212128,\n",
       "  1.2553779184818268,\n",
       "  1.2087040543556213,\n",
       "  1.2615238428115845,\n",
       "  1.2026515007019043,\n",
       "  1.1513013541698456,\n",
       "  1.2293413877487183,\n",
       "  1.25081866979599,\n",
       "  1.3034444153308868,\n",
       "  1.3152483403682709,\n",
       "  1.150334745645523,\n",
       "  1.1653824150562286,\n",
       "  1.2352243959903717,\n",
       "  1.1696523129940033,\n",
       "  1.1509828567504883,\n",
       "  1.1459425389766693,\n",
       "  1.1459922194480896,\n",
       "  1.184401050209999,\n",
       "  1.2610411942005157,\n",
       "  1.163703292608261,\n",
       "  1.1337438225746155,\n",
       "  1.2354224622249603,\n",
       "  1.1552574783563614,\n",
       "  1.169339507818222,\n",
       "  1.1372142136096954,\n",
       "  1.1827730536460876,\n",
       "  1.218522310256958])"
      ]
     },
     "execution_count": 890,
     "metadata": {},
     "output_type": "execute_result"
    }
   ],
   "source": [
    "train_losses, test_losses"
   ]
  },
  {
   "cell_type": "code",
   "execution_count": 502,
   "id": "0e5d94fe-d252-4cbf-87e7-945788ab9975",
   "metadata": {},
   "outputs": [],
   "source": [
    "train_losses = []\n",
    "test_losses = []"
   ]
  },
  {
   "cell_type": "code",
   "execution_count": 473,
   "id": "086535de-9701-4146-8465-87f4f3c8794c",
   "metadata": {},
   "outputs": [],
   "source": [
    "nn_.eval()\n",
    "res = nn_(x[0])"
   ]
  },
  {
   "cell_type": "code",
   "execution_count": 474,
   "id": "8bcd5813-d208-4bff-90eb-d1d371eb1182",
   "metadata": {
    "scrolled": true
   },
   "outputs": [
    {
     "data": {
      "text/plain": [
       "tensor([[[[0.0863, 0.1020, 0.1373,  ..., 0.3882, 0.3647, 0.3216],\n",
       "          [0.0980, 0.1098, 0.1333,  ..., 0.3529, 0.3373, 0.2980],\n",
       "          [0.1333, 0.1451, 0.1608,  ..., 0.3098, 0.3020, 0.2784],\n",
       "          ...,\n",
       "          [0.4118, 0.2431, 0.1647,  ..., 0.3686, 0.3765, 0.3647],\n",
       "          [0.4392, 0.2667, 0.1922,  ..., 0.3608, 0.3490, 0.3255],\n",
       "          [0.4549, 0.2784, 0.2118,  ..., 0.3373, 0.3333, 0.3137]],\n",
       "\n",
       "         [[0.1137, 0.1333, 0.1647,  ..., 0.4471, 0.4196, 0.3765],\n",
       "          [0.1176, 0.1333, 0.1608,  ..., 0.4118, 0.3922, 0.3529],\n",
       "          [0.1451, 0.1608, 0.1765,  ..., 0.3569, 0.3490, 0.3255],\n",
       "          ...,\n",
       "          [0.4000, 0.2314, 0.1529,  ..., 0.3922, 0.4078, 0.4078],\n",
       "          [0.4196, 0.2471, 0.1725,  ..., 0.3843, 0.3804, 0.3686],\n",
       "          [0.4353, 0.2588, 0.1922,  ..., 0.3608, 0.3647, 0.3569]],\n",
       "\n",
       "         [[0.0824, 0.0824, 0.1020,  ..., 0.2941, 0.2784, 0.2353],\n",
       "          [0.0902, 0.0863, 0.0902,  ..., 0.2588, 0.2510, 0.2118],\n",
       "          [0.1098, 0.1059, 0.1098,  ..., 0.2078, 0.2000, 0.1765],\n",
       "          ...,\n",
       "          [0.3255, 0.1569, 0.0784,  ..., 0.2588, 0.2627, 0.2510],\n",
       "          [0.3451, 0.1725, 0.0980,  ..., 0.2510, 0.2353, 0.2118],\n",
       "          [0.3608, 0.1843, 0.1176,  ..., 0.2275, 0.2196, 0.2000]]],\n",
       "\n",
       "\n",
       "        [[[0.8431, 0.8549, 0.8588,  ..., 0.2000, 0.1725, 0.1412],\n",
       "          [0.8824, 0.8941, 0.8941,  ..., 0.2039, 0.1804, 0.1490],\n",
       "          [0.8941, 0.9176, 0.9255,  ..., 0.2118, 0.1882, 0.1569],\n",
       "          ...,\n",
       "          [0.3255, 0.3216, 0.2706,  ..., 0.8118, 0.8314, 0.8549],\n",
       "          [0.3373, 0.2902, 0.2118,  ..., 0.8000, 0.8275, 0.8471],\n",
       "          [0.2941, 0.2314, 0.1647,  ..., 0.8902, 0.8863, 0.8863]],\n",
       "\n",
       "         [[0.7686, 0.7804, 0.7843,  ..., 0.2941, 0.2667, 0.2353],\n",
       "          [0.8078, 0.8196, 0.8196,  ..., 0.2980, 0.2745, 0.2431],\n",
       "          [0.8157, 0.8392, 0.8471,  ..., 0.3059, 0.2824, 0.2510],\n",
       "          ...,\n",
       "          [0.2824, 0.2784, 0.2353,  ..., 0.7216, 0.7490, 0.7725],\n",
       "          [0.2941, 0.2471, 0.1686,  ..., 0.7059, 0.7333, 0.7529],\n",
       "          [0.2510, 0.1882, 0.1216,  ..., 0.7961, 0.7922, 0.7922]],\n",
       "\n",
       "         [[0.6510, 0.6549, 0.6588,  ..., 0.1686, 0.1412, 0.1098],\n",
       "          [0.6824, 0.6941, 0.6902,  ..., 0.1725, 0.1490, 0.1176],\n",
       "          [0.6863, 0.7020, 0.7098,  ..., 0.1804, 0.1490, 0.1176],\n",
       "          ...,\n",
       "          [0.2667, 0.2627, 0.2157,  ..., 0.6000, 0.6275, 0.6510],\n",
       "          [0.2863, 0.2392, 0.1608,  ..., 0.5961, 0.6235, 0.6431],\n",
       "          [0.2431, 0.1804, 0.1137,  ..., 0.6863, 0.6824, 0.6824]]],\n",
       "\n",
       "\n",
       "        [[[0.1451, 0.1451, 0.1373,  ..., 0.2157, 0.2000, 0.1922],\n",
       "          [0.1373, 0.1373, 0.1294,  ..., 0.2157, 0.2000, 0.1882],\n",
       "          [0.1294, 0.1294, 0.1216,  ..., 0.2157, 0.1961, 0.1843],\n",
       "          ...,\n",
       "          [0.1804, 0.0000, 0.4314,  ..., 0.1686, 0.2000, 0.2275],\n",
       "          [0.1098, 0.0706, 0.1059,  ..., 0.1882, 0.2392, 0.2784],\n",
       "          [0.0863, 0.1412, 0.1333,  ..., 0.2078, 0.2706, 0.3176]],\n",
       "\n",
       "         [[0.0824, 0.0824, 0.0824,  ..., 0.1373, 0.1294, 0.1216],\n",
       "          [0.0745, 0.0745, 0.0745,  ..., 0.1373, 0.1294, 0.1176],\n",
       "          [0.0667, 0.0667, 0.0667,  ..., 0.1373, 0.1255, 0.1137],\n",
       "          ...,\n",
       "          [0.2275, 0.0471, 0.4863,  ..., 0.1020, 0.1333, 0.1608],\n",
       "          [0.1451, 0.1059, 0.1451,  ..., 0.1216, 0.1725, 0.2118],\n",
       "          [0.1098, 0.1765, 0.1686,  ..., 0.1412, 0.2039, 0.2510]],\n",
       "\n",
       "         [[0.0235, 0.0235, 0.0314,  ..., 0.0431, 0.0510, 0.0431],\n",
       "          [0.0157, 0.0157, 0.0235,  ..., 0.0431, 0.0510, 0.0392],\n",
       "          [0.0078, 0.0078, 0.0157,  ..., 0.0431, 0.0471, 0.0353],\n",
       "          ...,\n",
       "          [0.2275, 0.0471, 0.4863,  ..., 0.0235, 0.0549, 0.0824],\n",
       "          [0.1412, 0.1020, 0.1412,  ..., 0.0510, 0.0941, 0.1333],\n",
       "          [0.1020, 0.1647, 0.1647,  ..., 0.0706, 0.1255, 0.1725]]],\n",
       "\n",
       "\n",
       "        ...,\n",
       "\n",
       "\n",
       "        [[[0.6824, 0.6706, 0.6471,  ..., 0.6980, 0.6941, 0.6902],\n",
       "          [0.6549, 0.6431, 0.6196,  ..., 0.6863, 0.6902, 0.6941],\n",
       "          [0.6235, 0.6118, 0.5961,  ..., 0.6667, 0.6824, 0.6902],\n",
       "          ...,\n",
       "          [0.3569, 0.3725, 0.3882,  ..., 0.1098, 0.1137, 0.1020],\n",
       "          [0.3765, 0.3843, 0.3961,  ..., 0.0980, 0.0980, 0.0745],\n",
       "          [0.3765, 0.3804, 0.3804,  ..., 0.0863, 0.0824, 0.0510]],\n",
       "\n",
       "         [[0.6471, 0.6353, 0.6118,  ..., 0.6784, 0.6745, 0.6706],\n",
       "          [0.6196, 0.6078, 0.5843,  ..., 0.6667, 0.6706, 0.6745],\n",
       "          [0.5882, 0.5765, 0.5608,  ..., 0.6471, 0.6627, 0.6706],\n",
       "          ...,\n",
       "          [0.3020, 0.3176, 0.3333,  ..., 0.1373, 0.1412, 0.1294],\n",
       "          [0.3216, 0.3294, 0.3412,  ..., 0.1255, 0.1137, 0.0902],\n",
       "          [0.3216, 0.3255, 0.3255,  ..., 0.1137, 0.0980, 0.0667]],\n",
       "\n",
       "         [[0.5804, 0.5686, 0.5451,  ..., 0.6000, 0.5961, 0.5922],\n",
       "          [0.5529, 0.5412, 0.5176,  ..., 0.5882, 0.5922, 0.5961],\n",
       "          [0.5216, 0.5098, 0.4941,  ..., 0.5686, 0.5843, 0.5922],\n",
       "          ...,\n",
       "          [0.1961, 0.2118, 0.2275,  ..., 0.1686, 0.1725, 0.1608],\n",
       "          [0.2157, 0.2235, 0.2353,  ..., 0.1490, 0.1490, 0.1255],\n",
       "          [0.2157, 0.2196, 0.2196,  ..., 0.1373, 0.1333, 0.1020]]],\n",
       "\n",
       "\n",
       "        [[[0.8941, 0.9373, 0.9333,  ..., 0.8431, 0.8549, 0.8549],\n",
       "          [0.8745, 0.8980, 0.9176,  ..., 0.8078, 0.8157, 0.8196],\n",
       "          [0.9647, 0.9294, 0.9255,  ..., 0.7765, 0.7922, 0.8000],\n",
       "          ...,\n",
       "          [0.8235, 0.7020, 0.7098,  ..., 0.8157, 0.7216, 0.7412],\n",
       "          [0.7686, 0.7020, 0.6863,  ..., 0.7765, 0.7294, 0.7490],\n",
       "          [0.7255, 0.7333, 0.6627,  ..., 0.7647, 0.7882, 0.7451]],\n",
       "\n",
       "         [[0.7412, 0.7804, 0.7569,  ..., 0.7569, 0.7569, 0.7569],\n",
       "          [0.7098, 0.7294, 0.7333,  ..., 0.7216, 0.7294, 0.7333],\n",
       "          [0.7922, 0.7451, 0.7216,  ..., 0.7020, 0.7176, 0.7255],\n",
       "          ...,\n",
       "          [0.7882, 0.6667, 0.6745,  ..., 0.6706, 0.5765, 0.6039],\n",
       "          [0.7255, 0.6667, 0.6510,  ..., 0.6314, 0.5843, 0.6118],\n",
       "          [0.6824, 0.6902, 0.6275,  ..., 0.6196, 0.6431, 0.6078]],\n",
       "\n",
       "         [[0.3294, 0.3961, 0.4392,  ..., 0.7686, 0.7725, 0.7725],\n",
       "          [0.3098, 0.3608, 0.4196,  ..., 0.7294, 0.7373, 0.7412],\n",
       "          [0.4196, 0.4000, 0.4275,  ..., 0.6784, 0.6941, 0.7020],\n",
       "          ...,\n",
       "          [0.7686, 0.6471, 0.6549,  ..., 0.5059, 0.4118, 0.4392],\n",
       "          [0.7098, 0.6471, 0.6235,  ..., 0.4667, 0.4196, 0.4471],\n",
       "          [0.6667, 0.6745, 0.6000,  ..., 0.4549, 0.4784, 0.4431]]],\n",
       "\n",
       "\n",
       "        [[[0.8000, 0.7961, 0.7922,  ..., 0.5490, 0.5647, 0.6275],\n",
       "          [0.8039, 0.7961, 0.7961,  ..., 0.5922, 0.5804, 0.6118],\n",
       "          [0.8039, 0.8000, 0.7961,  ..., 0.6039, 0.5647, 0.5647],\n",
       "          ...,\n",
       "          [0.6431, 0.6392, 0.6353,  ..., 0.5608, 0.4235, 0.3569],\n",
       "          [0.6196, 0.6196, 0.6157,  ..., 0.5608, 0.4824, 0.4353],\n",
       "          [0.6000, 0.5961, 0.5922,  ..., 0.5529, 0.5882, 0.6078]],\n",
       "\n",
       "         [[0.8667, 0.8627, 0.8588,  ..., 0.5725, 0.5804, 0.6431],\n",
       "          [0.8706, 0.8627, 0.8627,  ..., 0.6157, 0.5961, 0.6275],\n",
       "          [0.8706, 0.8667, 0.8627,  ..., 0.6275, 0.5804, 0.5843],\n",
       "          ...,\n",
       "          [0.7255, 0.7216, 0.7137,  ..., 0.5686, 0.4353, 0.3804],\n",
       "          [0.7020, 0.7020, 0.6980,  ..., 0.5647, 0.4941, 0.4471],\n",
       "          [0.6824, 0.6784, 0.6745,  ..., 0.5569, 0.6000, 0.6196]],\n",
       "\n",
       "         [[0.7255, 0.7216, 0.7255,  ..., 0.3373, 0.3412, 0.4039],\n",
       "          [0.7294, 0.7216, 0.7294,  ..., 0.3725, 0.3569, 0.3882],\n",
       "          [0.7294, 0.7255, 0.7216,  ..., 0.3843, 0.3412, 0.3333],\n",
       "          ...,\n",
       "          [0.6667, 0.6627, 0.6667,  ..., 0.3843, 0.2510, 0.1922],\n",
       "          [0.6353, 0.6431, 0.6392,  ..., 0.3922, 0.3176, 0.2706],\n",
       "          [0.6157, 0.6118, 0.6157,  ..., 0.3843, 0.4314, 0.4510]]]])"
      ]
     },
     "execution_count": 474,
     "metadata": {},
     "output_type": "execute_result"
    }
   ],
   "source": [
    "x[0]"
   ]
  },
  {
   "cell_type": "code",
   "execution_count": 475,
   "id": "1e56f3af-09eb-4c3f-8413-f3c9d4ae95d8",
   "metadata": {},
   "outputs": [
    {
     "data": {
      "text/plain": [
       "tensor([4, 4, 4, 4, 4, 4, 4, 4, 3, 4, 3, 4, 4, 4, 4, 4])"
      ]
     },
     "execution_count": 475,
     "metadata": {},
     "output_type": "execute_result"
    }
   ],
   "source": [
    "res.softmax(dim=-1).argmax(dim=-1)"
   ]
  },
  {
   "cell_type": "code",
   "execution_count": 467,
   "id": "357a54be-a114-4e4f-b3ad-43cde47e4244",
   "metadata": {},
   "outputs": [
    {
     "data": {
      "text/plain": [
       "tensor([2, 2, 1, 2, 4, 1, 3, 3, 4, 4, 0, 1, 4, 0, 1, 3])"
      ]
     },
     "execution_count": 467,
     "metadata": {},
     "output_type": "execute_result"
    }
   ],
   "source": [
    "x[1]"
   ]
  },
  {
   "cell_type": "code",
   "execution_count": null,
   "id": "9fd87aaa-79f6-4b7b-9b69-c31fa1539e82",
   "metadata": {},
   "outputs": [],
   "source": []
  }
 ],
 "metadata": {
  "kernelspec": {
   "display_name": "Python 3 (ipykernel)",
   "language": "python",
   "name": "python3"
  },
  "language_info": {
   "codemirror_mode": {
    "name": "ipython",
    "version": 3
   },
   "file_extension": ".py",
   "mimetype": "text/x-python",
   "name": "python",
   "nbconvert_exporter": "python",
   "pygments_lexer": "ipython3",
   "version": "3.12.8"
  },
  "widgets": {
   "application/vnd.jupyter.widget-state+json": {
    "state": {},
    "version_major": 2,
    "version_minor": 0
   }
  }
 },
 "nbformat": 4,
 "nbformat_minor": 5
}
