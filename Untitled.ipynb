{
 "cells": [
  {
   "cell_type": "code",
   "execution_count": 1,
   "id": "9bf88b6c-e8b8-459b-b418-d3e768173275",
   "metadata": {},
   "outputs": [],
   "source": [
    "import numpy as np"
   ]
  },
  {
   "cell_type": "code",
   "execution_count": 2,
   "id": "62c7625c-17d1-4cdb-b3ec-88e80306a463",
   "metadata": {},
   "outputs": [],
   "source": [
    "import torch"
   ]
  },
  {
   "cell_type": "code",
   "execution_count": 3,
   "id": "3e6c7711-be8f-4c8e-9dc4-7ffafaf562a3",
   "metadata": {},
   "outputs": [
    {
     "data": {
      "text/plain": [
       "False"
      ]
     },
     "execution_count": 3,
     "metadata": {},
     "output_type": "execute_result"
    }
   ],
   "source": [
    "torch.cuda.is_available()"
   ]
  },
  {
   "cell_type": "code",
   "execution_count": 60,
   "id": "0ffcd678-94ae-4fe1-974a-ea2037b20b23",
   "metadata": {},
   "outputs": [],
   "source": [
    "if torch.accelerator.is_available():\n",
    "    device = torch.device('cuda') if torch.cuda.is_available() else torch.device('mps' \n",
    "                                  if torch.mps.is_available() else 'ROCM'\n",
    "                                 )\n",
    "else: device = torch.device('cpu')"
   ]
  },
  {
   "cell_type": "code",
   "execution_count": 61,
   "id": "9d83ad8b-a7e1-49e4-9afb-750f86a363ae",
   "metadata": {},
   "outputs": [
    {
     "data": {
      "text/plain": [
       "device(type='mps')"
      ]
     },
     "execution_count": 61,
     "metadata": {},
     "output_type": "execute_result"
    }
   ],
   "source": [
    "device"
   ]
  },
  {
   "cell_type": "code",
   "execution_count": 19,
   "id": "dbca0745-13da-4457-95d7-3785b5ab8603",
   "metadata": {},
   "outputs": [
    {
     "data": {
      "text/plain": [
       "5.333343505859375"
      ]
     },
     "execution_count": 19,
     "metadata": {},
     "output_type": "execute_result"
    }
   ],
   "source": [
    "torch.mps.recommended_max_memory()/1024/1024/1024"
   ]
  },
  {
   "cell_type": "code",
   "execution_count": 50,
   "id": "0b09f2e0-eb62-42cc-a161-e949cc738760",
   "metadata": {},
   "outputs": [],
   "source": [
    "from torch import nn\n",
    "from torch.nn import Module"
   ]
  },
  {
   "cell_type": "code",
   "execution_count": 51,
   "id": "21ea5233-258c-4c2f-a3a6-395afe0f8e67",
   "metadata": {},
   "outputs": [
    {
     "ename": "AttributeError",
     "evalue": "module 'torch.cpu' has no attribute 'recommended_max_memory'",
     "output_type": "error",
     "traceback": [
      "\u001b[0;31m---------------------------------------------------------------------------\u001b[0m",
      "\u001b[0;31mAttributeError\u001b[0m                            Traceback (most recent call last)",
      "Cell \u001b[0;32mIn[51], line 1\u001b[0m\n\u001b[0;32m----> 1\u001b[0m \u001b[43mtorch\u001b[49m\u001b[38;5;241;43m.\u001b[39;49m\u001b[43mcpu\u001b[49m\u001b[38;5;241;43m.\u001b[39;49m\u001b[43mrecommended_max_memory\u001b[49m()\u001b[38;5;241m/\u001b[39m\u001b[38;5;241m1024\u001b[39m\u001b[38;5;241m/\u001b[39m\u001b[38;5;241m1024\u001b[39m\u001b[38;5;241m/\u001b[39m\u001b[38;5;241m1024\u001b[39m\n",
      "\u001b[0;31mAttributeError\u001b[0m: module 'torch.cpu' has no attribute 'recommended_max_memory'"
     ]
    }
   ],
   "source": [
    "torch.cpu.recommended_max_memory()/1024/1024/1024"
   ]
  },
  {
   "cell_type": "code",
   "execution_count": 52,
   "id": "6ed4b79a-eef7-4466-b544-a3f1597ecbcd",
   "metadata": {},
   "outputs": [
    {
     "data": {
      "text/plain": [
       "1"
      ]
     },
     "execution_count": 52,
     "metadata": {},
     "output_type": "execute_result"
    }
   ],
   "source": [
    "torch.cpu.device_count()"
   ]
  },
  {
   "cell_type": "code",
   "execution_count": 41,
   "id": "fea672ef-a787-4859-b94b-d1253a548ba3",
   "metadata": {},
   "outputs": [],
   "source": [
    "class myNN(Module):\n",
    "    def __init__(self,  hidden_layer_size = 64,\n",
    "                 hidden_layer_num = 3,\n",
    "                 conv_kernel_size = (3,3),\n",
    "                 conv_kernel_stride = 2,\n",
    "                 p_L=0.5, input_shape=(224,224,3), n_classes=16):\n",
    "        super(myNN).__init__()\n",
    "        self.layers = nn.ModuleList([nn.Conv2d(in_channels: int,\n",
    "                out_channels: int,\n",
    "                kernel_size: Union[int, Tuple[int, int]],\n",
    "                stride: Union[int, Tuple[int, int]] = 1,\n",
    "                padding = 0: Union[str, int, Tuple[int, int]] = 0,\n",
    "                \n",
    "                groups: int = 1,\n",
    "                bias: bool = True,\n",
    "                padding_mode: str = 'zeros',\n",
    "                device=None,)\n",
    "        "
   ]
  },
  {
   "cell_type": "code",
   "execution_count": 49,
   "id": "5f77b4c2-ccc0-48ed-a253-fa13a9f301e8",
   "metadata": {},
   "outputs": [],
   "source": [
    "nn_ = myNN()"
   ]
  },
  {
   "cell_type": "code",
   "execution_count": 36,
   "id": "bd82e0de-bdd2-423c-8c96-26d7658ca572",
   "metadata": {},
   "outputs": [
    {
     "data": {
      "text/plain": [
       "True"
      ]
     },
     "execution_count": 36,
     "metadata": {},
     "output_type": "execute_result"
    }
   ],
   "source": [
    "torch.accelerator.is_available()"
   ]
  },
  {
   "cell_type": "code",
   "execution_count": 38,
   "id": "c163df71-1cd5-4249-8ff9-f193056fe9e6",
   "metadata": {},
   "outputs": [
    {
     "data": {
      "text/plain": [
       "device(type='mps')"
      ]
     },
     "execution_count": 38,
     "metadata": {},
     "output_type": "execute_result"
    }
   ],
   "source": [
    "torch.accelerator.current_accelerator()"
   ]
  },
  {
   "cell_type": "code",
   "execution_count": null,
   "id": "1500ef4d-3e13-4a65-b2dc-1333acc5b2e6",
   "metadata": {},
   "outputs": [],
   "source": []
  }
 ],
 "metadata": {
  "kernelspec": {
   "display_name": "Python 3 (ipykernel)",
   "language": "python",
   "name": "python3"
  },
  "language_info": {
   "codemirror_mode": {
    "name": "ipython",
    "version": 3
   },
   "file_extension": ".py",
   "mimetype": "text/x-python",
   "name": "python",
   "nbconvert_exporter": "python",
   "pygments_lexer": "ipython3",
   "version": "3.11.9"
  },
  "widgets": {
   "application/vnd.jupyter.widget-state+json": {
    "state": {},
    "version_major": 2,
    "version_minor": 0
   }
  }
 },
 "nbformat": 4,
 "nbformat_minor": 5
}
